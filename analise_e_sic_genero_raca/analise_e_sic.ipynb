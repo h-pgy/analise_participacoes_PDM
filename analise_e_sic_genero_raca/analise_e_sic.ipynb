{
 "cells": [
  {
   "cell_type": "code",
   "execution_count": 71,
   "id": "1cb04d40-0fab-4d9d-a468-1c9cc9c1f49f",
   "metadata": {},
   "outputs": [],
   "source": [
    "import pandas as pd\n"
   ]
  },
  {
   "cell_type": "code",
   "execution_count": 5,
   "id": "1980d512-ca6c-4043-b412-1d10f85e3219",
   "metadata": {},
   "outputs": [],
   "source": [
    "propostas = pd.read_csv('orig_data/resultado-propostas-programa-de-metas-2021-2024-e-plano-plurianual-2022-2025 propostas.csv')"
   ]
  },
  {
   "cell_type": "code",
   "execution_count": 34,
   "id": "0ad784bb-18e1-4673-a4e7-eb89fa22224b",
   "metadata": {},
   "outputs": [
    {
     "data": {
      "text/plain": [
       "array(['brown', 'black', 'white', nan, 'yellow'], dtype=object)"
      ]
     },
     "execution_count": 34,
     "metadata": {},
     "output_type": "execute_result"
    }
   ],
   "source": [
    "propostas['Raça'].unique()"
   ]
  },
  {
   "cell_type": "code",
   "execution_count": 37,
   "id": "9ce82be8-ab48-4279-96f1-cf3098a5a1fe",
   "metadata": {},
   "outputs": [],
   "source": [
    "def padronizar_raca(item):\n",
    "    \n",
    "    padrao = {\n",
    "        'brown' : 'pardo',\n",
    "        'black' : 'negro',\n",
    "        'white' : 'branco',\n",
    "        'yellow' : 'amarelo'\n",
    "    }\n",
    "    \n",
    "    if pd.isnull(item):\n",
    "        return 'Não preenchido'\n",
    "    else:\n",
    "        return padrao[item]\n",
    "\n",
    "\n",
    "    \n",
    "   "
   ]
  },
  {
   "cell_type": "code",
   "execution_count": 50,
   "id": "9d16db90-45d4-4fa0-9361-34032e1d108c",
   "metadata": {},
   "outputs": [],
   "source": [
    "propostas['raca_padronizado'] = propostas['Raça'].apply(padronizar_raca)"
   ]
  },
  {
   "cell_type": "code",
   "execution_count": 39,
   "id": "c599a7b6-534b-4dbb-999d-36330cb0a4c7",
   "metadata": {},
   "outputs": [
    {
     "data": {
      "text/plain": [
       "array(['male', nan, 'female', 'unknown'], dtype=object)"
      ]
     },
     "execution_count": 39,
     "metadata": {},
     "output_type": "execute_result"
    }
   ],
   "source": [
    "propostas['Gênero'].unique()"
   ]
  },
  {
   "cell_type": "code",
   "execution_count": 42,
   "id": "113ae69e-9379-4532-a7e1-77d86e6f89e2",
   "metadata": {},
   "outputs": [],
   "source": [
    "def padronizar_genero(item):\n",
    "    \n",
    "    padrao = {\n",
    "        'male' : 'masculino',\n",
    "        'female' : 'feminino',\n",
    "        'unknown' : 'preferiu não responder'\n",
    "    }\n",
    "    \n",
    "    if pd.isnull(item):\n",
    "        return 'Não preenchido'\n",
    "    else:\n",
    "        return padrao[item]\n",
    "    "
   ]
  },
  {
   "cell_type": "code",
   "execution_count": 43,
   "id": "c0d8858f-6a9f-49cb-a370-01730a6e6c30",
   "metadata": {},
   "outputs": [],
   "source": [
    "propostas['genero_padronizado'] = propostas['Gênero'].apply(padronizar_genero)"
   ]
  },
  {
   "cell_type": "code",
   "execution_count": 46,
   "id": "c6155255-974c-45dd-8ec7-571ec5bfa742",
   "metadata": {},
   "outputs": [],
   "source": [
    "propostas['Quantidade'] = 1"
   ]
  },
  {
   "cell_type": "code",
   "execution_count": 48,
   "id": "e4a0c638-4382-46d0-afcc-cf90c6af64cd",
   "metadata": {},
   "outputs": [],
   "source": [
    "por_genero = propostas.groupby('genero_padronizado').count()[['Quantidade']]"
   ]
  },
  {
   "cell_type": "code",
   "execution_count": 51,
   "id": "aef4ce01-9c3a-4b9f-9a5f-eed13499416a",
   "metadata": {},
   "outputs": [],
   "source": [
    "por_raca = propostas.groupby('raca_padronizado').count()[['Quantidade']]"
   ]
  },
  {
   "cell_type": "code",
   "execution_count": 55,
   "id": "781e6576-f263-4dcf-9afb-7307ee65bcb7",
   "metadata": {},
   "outputs": [],
   "source": [
    "total_reg = len(propostas)"
   ]
  },
  {
   "cell_type": "code",
   "execution_count": 67,
   "id": "2d9b37ed-f3d7-42b9-b21a-cc33752b8a51",
   "metadata": {},
   "outputs": [],
   "source": [
    "por_raca['Percentual'] = por_raca['Quantidade'].apply(lambda x: '{:.1%}'.format(x/total_reg))\n",
    "por_genero['Percentual'] = por_genero['Quantidade'].apply(lambda x: '{:.1%}'.format(x/total_reg))"
   ]
  },
  {
   "cell_type": "code",
   "execution_count": 72,
   "id": "48f367ef-fddf-4687-9c04-f8dd0706789b",
   "metadata": {},
   "outputs": [],
   "source": [
    "por_raca.to_excel('propostas_por_raca.xlsx')"
   ]
  },
  {
   "cell_type": "code",
   "execution_count": 73,
   "id": "0a505d47-f747-433a-aec1-7c9ffefc9ff1",
   "metadata": {},
   "outputs": [],
   "source": [
    "por_genero.to_excel('propostas_por_genero.xlsx')"
   ]
  },
  {
   "cell_type": "code",
   "execution_count": null,
   "id": "07b75911-e60e-4e5b-99f5-edf6639c2b24",
   "metadata": {},
   "outputs": [],
   "source": []
  }
 ],
 "metadata": {
  "kernelspec": {
   "display_name": "Python 3",
   "language": "python",
   "name": "python3"
  },
  "language_info": {
   "codemirror_mode": {
    "name": "ipython",
    "version": 3
   },
   "file_extension": ".py",
   "mimetype": "text/x-python",
   "name": "python",
   "nbconvert_exporter": "python",
   "pygments_lexer": "ipython3",
   "version": "3.8.8"
  }
 },
 "nbformat": 4,
 "nbformat_minor": 5
}
