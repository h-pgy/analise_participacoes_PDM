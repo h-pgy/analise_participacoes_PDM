{
 "cells": [
  {
   "cell_type": "code",
   "execution_count": 1,
   "id": "going-liabilities",
   "metadata": {},
   "outputs": [],
   "source": [
    "import pandas as pd\n",
    "import os\n",
    "import re\n",
    "import json"
   ]
  },
  {
   "cell_type": "code",
   "execution_count": 2,
   "id": "compatible-halloween",
   "metadata": {},
   "outputs": [],
   "source": [
    "def dados_banco_dados():\n",
    "    \n",
    "    path_dados = '../Dados_originais/Dados_Banco_de_Dados'\n",
    "    files_site = [os.path.join(path_dados, file) for file in os.listdir(path_dados)]\n",
    "    \n",
    "    contrib_f = [f for f in files_site if f.split('\\\\')[-1].startswith('contrib')][0]\n",
    "    prop_f = [f for f in files_site if f.split('\\\\')[-1].startswith('propost')][0]\n",
    "    \n",
    "    return pd.read_csv(contrib_f), pd.read_csv(prop_f)\n",
    "\n",
    "\n",
    "def dados_banco_dados_cep():\n",
    "    \n",
    "    path_dados = '../Dados_originais/Dados_Banco_de_Dados_CEP'\n",
    "    files_site = [os.path.join(path_dados, file) for file in os.listdir(path_dados)]\n",
    "    \n",
    "    contrib_f = [f for f in files_site if f.split('\\\\')[-1].startswith('contrib')][0]\n",
    "    prop_f = [f for f in files_site if f.split('\\\\')[-1].startswith('propost')][0]\n",
    "    \n",
    "    return pd.read_csv(contrib_f), pd.read_csv(prop_f)\n",
    "\n",
    "def get_end_salvo(versao, path = None):\n",
    "    \n",
    "    if path is None:\n",
    "        path = '../Dados_gerados/geocode'\n",
    "    if os.path.exists(path):\n",
    "        pat = 'enderecos_georref_\\d*.json'\n",
    "        files = [os.path.join(path, file) for file in os.listdir(path)\n",
    "                if re.match(pat, file)]\n",
    "\n",
    "        for f in files:\n",
    "            versao_file = os.path.split(f)[-1].split('_')[-1].split('.')[0]\n",
    "            if str(versao) == versao_file:\n",
    "                with open(f) as file:\n",
    "                    return json.load(file)"
   ]
  },
  {
   "cell_type": "code",
   "execution_count": 3,
   "id": "perfect-retailer",
   "metadata": {},
   "outputs": [],
   "source": [
    "#pegando todos os dados para cruzar\n",
    "\n",
    "contrib, prop = dados_banco_dados()\n",
    "contrib_cep, prop_cep = dados_banco_dados_cep()\n",
    "contrib_georref = pd.read_excel('../Dados_gerados/contrib_georref.xlsx')\n",
    "prop_georref = pd.read_excel('../Dados_gerados/prop_georref.xlsx')\n",
    "enderecos = get_end_salvo(versao = 1)"
   ]
  },
  {
   "cell_type": "code",
   "execution_count": 4,
   "id": "collected-young",
   "metadata": {},
   "outputs": [
    {
     "data": {
      "text/plain": [
       "ID                  int64\n",
       "Numeração          object\n",
       "Título             object\n",
       "Texto              object\n",
       "Opção escolhida    object\n",
       "Sugestão           object\n",
       "Usuário            object\n",
       "Email              object\n",
       "Endereço           object\n",
       "CEP                 int64\n",
       "dtype: object"
      ]
     },
     "execution_count": 4,
     "metadata": {},
     "output_type": "execute_result"
    }
   ],
   "source": [
    "#CEP VEIO COMO NUMERO, tem que arrumar\n",
    "contrib_cep.dtypes"
   ]
  },
  {
   "cell_type": "code",
   "execution_count": 5,
   "id": "alleged-fraction",
   "metadata": {},
   "outputs": [],
   "source": [
    "def arrumar_cep(cep):\n",
    "    \n",
    "    if pd.isnull(cep):\n",
    "        return None\n",
    "    \n",
    "    pat_cep = '^\\d{5}-\\d{3}'\n",
    "    if re.match(pat_cep, str(cep)):\n",
    "        return cep\n",
    "    \n",
    "    else:\n",
    "        cep = str(int(cep))\n",
    "        while len(cep) < 8:\n",
    "            cep = '0' + cep\n",
    "    \n",
    "    return f'{cep[:5]}-{cep[5:]}'"
   ]
  },
  {
   "cell_type": "code",
   "execution_count": 6,
   "id": "utility-bench",
   "metadata": {},
   "outputs": [],
   "source": [
    "contrib_cep['CEP'] = contrib_cep['CEP'].apply(arrumar_cep)\n",
    "prop_cep['CEP'] = prop_cep['CEP'].apply(arrumar_cep)"
   ]
  },
  {
   "cell_type": "code",
   "execution_count": 7,
   "id": "statistical-invitation",
   "metadata": {},
   "outputs": [],
   "source": [
    "#garantir que todos os dados originais vieram\n",
    "assert prop['ID'].isin(prop_cep['ID']).all()\n",
    "assert prop['ID'].isin(prop_georref['ID']).all()\n",
    "assert prop_georref['ID'].isin(prop_cep['ID']).all()\n",
    "assert contrib['ID'].isin(contrib_cep['ID']).all()\n",
    "assert contrib['ID'].isin(contrib_georref['ID']).all()\n",
    "assert contrib_georref['ID'].isin(contrib_cep['ID']).all()\n"
   ]
  },
  {
   "cell_type": "code",
   "execution_count": 8,
   "id": "broadband-alliance",
   "metadata": {},
   "outputs": [],
   "source": [
    "#mesmo assim acho melhor continuar trabalhando com as bases originais\n",
    "#entao vou fazer merge\n",
    "\n",
    "contrib_cep = contrib_cep[['ID', 'CEP']].copy()\n",
    "prop_cep = prop_cep[['ID', 'CEP']].copy()\n",
    "\n",
    "contrib_georref_cep = pd.merge(contrib_georref, contrib_cep, how = 'left')#left para garantir\n",
    "prop_georref_cep = pd.merge(prop_georref, prop_cep, how = 'left')"
   ]
  },
  {
   "cell_type": "code",
   "execution_count": 9,
   "id": "considerable-transsexual",
   "metadata": {},
   "outputs": [],
   "source": [
    "#garantir que todos os enderecos foram georreferenciados\n",
    "assert prop_georref_cep[~prop_georref_cep['Endereco'].isin(enderecos)]['Endereco'].isnull().all()\n",
    "assert contrib_georref_cep[~contrib_georref_cep['Endereço'].isin(enderecos)]['Endereço'].isnull().all()"
   ]
  },
  {
   "cell_type": "code",
   "execution_count": 10,
   "id": "fixed-workstation",
   "metadata": {},
   "outputs": [],
   "source": [
    "prop_georref_cep.drop('Unnamed: 0', axis = 1, inplace = True)\n",
    "contrib_georref_cep.drop('Unnamed: 0', axis = 1, inplace = True)"
   ]
  },
  {
   "cell_type": "code",
   "execution_count": 11,
   "id": "international-tractor",
   "metadata": {},
   "outputs": [],
   "source": [
    "def get_cep_end(end, enderecos_totais):\n",
    "    \n",
    "    if pd.isnull(end):\n",
    "        return None\n",
    "    enderecos_encontrados = enderecos_totais[end]\n",
    "    for endereco in enderecos_encontrados:\n",
    "        for componente in endereco['address_components']:\n",
    "            if 'postal_code' in componente['types']:\n",
    "                return componente['long_name']\n",
    "    \n",
    "    return None"
   ]
  },
  {
   "cell_type": "code",
   "execution_count": 12,
   "id": "naval-jumping",
   "metadata": {},
   "outputs": [],
   "source": [
    "#pegando o CEP que o google devolveu\n",
    "contrib_georref_cep['CEP_Google'] = contrib_georref_cep['Endereço'].apply(\n",
    "    get_cep_end, args = [enderecos] )\n",
    "prop_georref_cep['CEP_Google'] = prop_georref_cep['Endereco'].apply(\n",
    "    get_cep_end, args = [enderecos] )"
   ]
  },
  {
   "cell_type": "code",
   "execution_count": 13,
   "id": "corrected-things",
   "metadata": {},
   "outputs": [],
   "source": [
    "def check_cep(row):\n",
    "    \n",
    "    if pd.isnull(row['CEP']) and pd.isnull(row['CEP_Google']):\n",
    "        return True\n",
    "    else:\n",
    "        check = row['CEP'] == row['CEP_Google']\n",
    "        return check\n",
    "    "
   ]
  },
  {
   "cell_type": "code",
   "execution_count": 14,
   "id": "bulgarian-petite",
   "metadata": {},
   "outputs": [],
   "source": [
    "comparacao = contrib_georref_cep['CEP_Google'] == contrib_georref_cep['CEP']\n",
    "contrib_georref_cep['check_cep'] = comparacao"
   ]
  },
  {
   "cell_type": "code",
   "execution_count": 15,
   "id": "powerful-brisbane",
   "metadata": {},
   "outputs": [],
   "source": [
    "prop_georref_cep['check_cep'] = prop_georref_cep.apply(check_cep, axis = 1)\n",
    "contrib_georref_cep['check_cep'] = contrib_georref_cep.apply(check_cep, axis = 1)"
   ]
  },
  {
   "cell_type": "code",
   "execution_count": 16,
   "id": "mature-committee",
   "metadata": {},
   "outputs": [
    {
     "data": {
      "text/plain": [
       "0.8113425925925926"
      ]
     },
     "execution_count": 16,
     "metadata": {},
     "output_type": "execute_result"
    }
   ],
   "source": [
    "prop_georref_cep['check_cep'].sum()/len(prop_georref_cep)"
   ]
  },
  {
   "cell_type": "code",
   "execution_count": 17,
   "id": "russian-devon",
   "metadata": {},
   "outputs": [
    {
     "data": {
      "text/plain": [
       "0.9345670852610707"
      ]
     },
     "execution_count": 17,
     "metadata": {},
     "output_type": "execute_result"
    }
   ],
   "source": [
    "contrib_georref_cep['check_cep'].sum()/len(contrib_georref_cep)"
   ]
  },
  {
   "cell_type": "code",
   "execution_count": 18,
   "id": "cardiac-registration",
   "metadata": {},
   "outputs": [
    {
     "data": {
      "text/plain": [
       "array(['São Vicente SP', 'Rua Costa Carvalho 373 ap42 São Paulo SP',\n",
       "       'Rua Soldado Jamil Dagli 326 casa São Paulo SP', 'Osasco SP',\n",
       "       'Rua Senador César Lacerda Vergueiro 415 102 São Paulo SP',\n",
       "       'Avenida Antônio Carlos Benjamin dos Santos 2400  São Paulo SP',\n",
       "       'Rua Doutor Virgílio de Carvalho Pinto 306 102 São Paulo SP',\n",
       "       'Guarulhos SP', nan,\n",
       "       'Rua José de Alencar 29 SOL NASCENTE São Paulo SP',\n",
       "       'Alameda Santos 333 134 São Paulo SP',\n",
       "       'Rua Cotoxó 987 apto 63 São Paulo SP',\n",
       "       'Avenida Sapopemba 1437  São Paulo SP',\n",
       "       'Avenida das Nações Unidas 11541  São Paulo SP',\n",
       "       'Rua Tuiuti 770 Apartamento 54 - Bloco A São Paulo SP'],\n",
       "      dtype=object)"
      ]
     },
     "execution_count": 18,
     "metadata": {},
     "output_type": "execute_result"
    }
   ],
   "source": [
    "contrib_georref_cep[~contrib_georref_cep['check_cep']]['endereço_original'].unique()"
   ]
  },
  {
   "cell_type": "code",
   "execution_count": 19,
   "id": "naval-franchise",
   "metadata": {},
   "outputs": [
    {
     "data": {
      "text/plain": [
       "array(['Rua Valdomiro Silva 81  São Paulo SP',\n",
       "       'Avenida das Nações Unidas 11541  São Paulo SP',\n",
       "       'Alameda Santos 1787 Cj. 91 São Paulo SP', nan,\n",
       "       'Rua Domingos de Morais 2018 74 São Paulo SP',\n",
       "       'Avenida Sapopemba 1437  São Paulo SP',\n",
       "       'Rua Costa Carvalho 373 ap42 São Paulo SP',\n",
       "       'Rua Margarida Rainha 13 Casa 3 São Paulo SP',\n",
       "       'Rua Maria Perez Auge 92  São Paulo SP',\n",
       "       'Rua Constância Asson 380  São Paulo SP',\n",
       "       'Travessa Rio Mangaba 12 BL 22 A  Ap31 São Paulo SP',\n",
       "       'Rua Zacarias de Gois 756 casa São Paulo SP',\n",
       "       'Avenida Itaberaba 451 Apt 32 A São Paulo SP',\n",
       "       'Rua Argentina 41  São Paulo SP',\n",
       "       'Avenida Antônio Carlos Benjamin dos Santos 2400  São Paulo SP',\n",
       "       'Rua Cinco de Maio 04  São Paulo SP',\n",
       "       'Rua Tuiuti 770 Apartamento 54 - Bloco A São Paulo SP',\n",
       "       'Rua do Ushikichi kamiya 1029 Casa 1 São Paulo SP',\n",
       "       'Rua Maranhão 163 Ap 101 São Paulo SP',\n",
       "       'Viaduto Jacareí 100 GAB 1207 São Paulo SP'], dtype=object)"
      ]
     },
     "execution_count": 19,
     "metadata": {},
     "output_type": "execute_result"
    }
   ],
   "source": [
    "prop_georref_cep[~prop_georref_cep['check_cep']]['endereço_original'].unique()"
   ]
  },
  {
   "cell_type": "code",
   "execution_count": 20,
   "id": "necessary-ideal",
   "metadata": {},
   "outputs": [],
   "source": [
    "prop_georref_cep.to_excel('../Dados_gerados/prop_georref_cep.xlsx')\n",
    "contrib_georref_cep.to_excel('../Dados_gerados/contrib_georref_cep.xlsx')"
   ]
  },
  {
   "cell_type": "code",
   "execution_count": null,
   "id": "deluxe-contrary",
   "metadata": {},
   "outputs": [],
   "source": []
  }
 ],
 "metadata": {
  "kernelspec": {
   "display_name": "Python 3",
   "language": "python",
   "name": "python3"
  },
  "language_info": {
   "codemirror_mode": {
    "name": "ipython",
    "version": 3
   },
   "file_extension": ".py",
   "mimetype": "text/x-python",
   "name": "python",
   "nbconvert_exporter": "python",
   "pygments_lexer": "ipython3",
   "version": "3.7.4"
  }
 },
 "nbformat": 4,
 "nbformat_minor": 5
}
