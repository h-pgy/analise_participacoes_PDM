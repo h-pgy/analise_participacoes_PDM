{
 "cells": [
  {
   "cell_type": "code",
   "execution_count": 1,
   "id": "vital-brake",
   "metadata": {},
   "outputs": [],
   "source": [
    "import pandas as pd\n",
    "import os\n",
    "import sys  \n",
    "from cryptography.fernet import Fernet\n",
    "from config import key"
   ]
  },
  {
   "cell_type": "code",
   "execution_count": 2,
   "id": "hired-disclaimer",
   "metadata": {},
   "outputs": [],
   "source": [
    "def encrypt(item, crypto, encoding='utf-8'):\n",
    "    \n",
    "    if pd.isnull(item):\n",
    "        item = 'null'\n",
    "    \n",
    "    assert type(crypto) == Fernet\n",
    "    \n",
    "    item = bytes(item, encoding = encoding)\n",
    "    \n",
    "    return crypto.encrypt(item).decode(encoding)"
   ]
  },
  {
   "cell_type": "code",
   "execution_count": 3,
   "id": "regional-remains",
   "metadata": {},
   "outputs": [],
   "source": [
    "def decrypt(item, crypto, encoding='utf-8'):\n",
    "    \n",
    "    bytes(item, encoding = encoding)\n",
    "    bytes_decript = crypto.decrypt(item)\n",
    "    \n",
    "    return bytes_decript.decode('utf-8')"
   ]
  },
  {
   "cell_type": "code",
   "execution_count": 4,
   "id": "increasing-mercury",
   "metadata": {},
   "outputs": [],
   "source": [
    "def get_files(path):\n",
    "    \n",
    "    files = [os.path.join(path, file)\n",
    "            for file in os.listdir(path)]\n",
    "    \n",
    "    return files"
   ]
  },
  {
   "cell_type": "code",
   "execution_count": 5,
   "id": "duplicate-acceptance",
   "metadata": {},
   "outputs": [],
   "source": [
    "def dados_inscricoes_audiencia():\n",
    "    \n",
    "    f_audiencia = get_files('../Dados_originais/Dados_inscricoes_audiencia/')\n",
    "    dfs = []\n",
    "    for f in f_audiencia:\n",
    "        audiencia = f.split('/')[-1]\n",
    "        df = pd.read_excel(f)\n",
    "        df['Audiencia'] = audiencia\n",
    "        dfs.append(df)\n",
    "        \n",
    "    return pd.concat(dfs)"
   ]
  },
  {
   "cell_type": "code",
   "execution_count": 6,
   "id": "polyphonic-invite",
   "metadata": {},
   "outputs": [],
   "source": [
    "def dados_banco_dados():\n",
    "    \n",
    "    files_site = get_files('../Dados_originais/Dados_Banco_de_Dados')\n",
    "    \n",
    "    contrib_f = [f for f in files_site if f.split('\\\\')[-1].startswith('contrib')][0]\n",
    "    prop_f = [f for f in files_site if f.split('\\\\')[-1].startswith('result')][0]\n",
    "    \n",
    "    return pd.read_csv(contrib_f), pd.read_csv(prop_f)"
   ]
  },
  {
   "cell_type": "code",
   "execution_count": 7,
   "id": "systematic-april",
   "metadata": {},
   "outputs": [],
   "source": [
    "def filtrar_e_renomear(df, nome_df):\n",
    "    \n",
    "    colunas = {\n",
    "    'prop' : {'Autor' : 'nome', 'Email' : 'email'},\n",
    "    'contrib' : {'Usuário' : 'nome', 'Email' : 'email'},\n",
    "    'audi' : {'Nome:' : 'nome', 'E-mail:': 'email'}\n",
    "    }\n",
    "    \n",
    "    df = df[colunas[nome_df].keys()].copy()\n",
    "    df.rename(colunas[nome_df], axis = 1, inplace = True)\n",
    "    \n",
    "    return df"
   ]
  },
  {
   "cell_type": "code",
   "execution_count": 8,
   "id": "suffering-glenn",
   "metadata": {},
   "outputs": [],
   "source": [
    "def juntar_tudo():\n",
    "    \n",
    "    audiencias = dados_inscricoes_audiencia()\n",
    "    contrib, prop = dados_banco_dados()\n",
    "    \n",
    "    dfs = [\n",
    "        filtrar_e_renomear(audiencias, 'audi'),\n",
    "        filtrar_e_renomear(contrib, 'contrib'),\n",
    "        filtrar_e_renomear(prop, 'prop')\n",
    "    ]\n",
    "    \n",
    "    return pd.concat(dfs)\n",
    "    \n",
    "    "
   ]
  },
  {
   "cell_type": "code",
   "execution_count": 9,
   "id": "unable-alabama",
   "metadata": {},
   "outputs": [],
   "source": [
    "df = juntar_tudo()"
   ]
  },
  {
   "cell_type": "code",
   "execution_count": 10,
   "id": "changed-charity",
   "metadata": {},
   "outputs": [
    {
     "data": {
      "text/plain": [
       "3092"
      ]
     },
     "execution_count": 10,
     "metadata": {},
     "output_type": "execute_result"
    }
   ],
   "source": [
    "df.email.duplicated().sum()"
   ]
  },
  {
   "cell_type": "code",
   "execution_count": 11,
   "id": "smoking-color",
   "metadata": {},
   "outputs": [
    {
     "data": {
      "text/plain": [
       "2917"
      ]
     },
     "execution_count": 11,
     "metadata": {},
     "output_type": "execute_result"
    }
   ],
   "source": [
    "df.duplicated().sum()"
   ]
  },
  {
   "cell_type": "code",
   "execution_count": 12,
   "id": "appropriate-mother",
   "metadata": {},
   "outputs": [],
   "source": [
    "df[df.email.duplicated(keep = False)].sort_values(by='email').to_excel('lista_nomes_email_duplicatas.xlsx')"
   ]
  },
  {
   "cell_type": "code",
   "execution_count": 13,
   "id": "german-blind",
   "metadata": {},
   "outputs": [
    {
     "data": {
      "text/plain": [
       "1761"
      ]
     },
     "execution_count": 13,
     "metadata": {},
     "output_type": "execute_result"
    }
   ],
   "source": [
    "deduplicado = df[~df['email'].duplicated()].copy()\n",
    "deduplicado['nome'].duplicated().sum()"
   ]
  },
  {
   "cell_type": "code",
   "execution_count": 14,
   "id": "corporate-supplement",
   "metadata": {},
   "outputs": [
    {
     "data": {
      "text/html": [
       "<div>\n",
       "<style scoped>\n",
       "    .dataframe tbody tr th:only-of-type {\n",
       "        vertical-align: middle;\n",
       "    }\n",
       "\n",
       "    .dataframe tbody tr th {\n",
       "        vertical-align: top;\n",
       "    }\n",
       "\n",
       "    .dataframe thead th {\n",
       "        text-align: right;\n",
       "    }\n",
       "</style>\n",
       "<table border=\"1\" class=\"dataframe\">\n",
       "  <thead>\n",
       "    <tr style=\"text-align: right;\">\n",
       "      <th></th>\n",
       "      <th>nome</th>\n",
       "      <th>email</th>\n",
       "    </tr>\n",
       "  </thead>\n",
       "  <tbody>\n",
       "    <tr>\n",
       "      <th>24</th>\n",
       "      <td>NaN</td>\n",
       "      <td>mgbove47@gmail.com</td>\n",
       "    </tr>\n",
       "    <tr>\n",
       "      <th>23</th>\n",
       "      <td>NaN</td>\n",
       "      <td>mariajosesousa@live.com</td>\n",
       "    </tr>\n",
       "    <tr>\n",
       "      <th>36</th>\n",
       "      <td>NaN</td>\n",
       "      <td>vandoirlima3@gmail.com</td>\n",
       "    </tr>\n",
       "    <tr>\n",
       "      <th>46</th>\n",
       "      <td>NaN</td>\n",
       "      <td>11968185275rafaella@gmail.com</td>\n",
       "    </tr>\n",
       "    <tr>\n",
       "      <th>25</th>\n",
       "      <td>NaN</td>\n",
       "      <td>1970lucianodossantos@gmail.com</td>\n",
       "    </tr>\n",
       "    <tr>\n",
       "      <th>...</th>\n",
       "      <td>...</td>\n",
       "      <td>...</td>\n",
       "    </tr>\n",
       "    <tr>\n",
       "      <th>37</th>\n",
       "      <td>NaN</td>\n",
       "      <td>zoehpares@gmail.com</td>\n",
       "    </tr>\n",
       "    <tr>\n",
       "      <th>44</th>\n",
       "      <td>NaN</td>\n",
       "      <td>zoioale@hotmail.com</td>\n",
       "    </tr>\n",
       "    <tr>\n",
       "      <th>86</th>\n",
       "      <td>NaN</td>\n",
       "      <td>Álvaro.fred.fernandes@gmail.com</td>\n",
       "    </tr>\n",
       "    <tr>\n",
       "      <th>50</th>\n",
       "      <td>NaN</td>\n",
       "      <td>élienerosaandrade @81gmail.com</td>\n",
       "    </tr>\n",
       "    <tr>\n",
       "      <th>58</th>\n",
       "      <td>NaN</td>\n",
       "      <td>Ďoutor.nilton@hotmail.Com</td>\n",
       "    </tr>\n",
       "  </tbody>\n",
       "</table>\n",
       "<p>1765 rows × 2 columns</p>\n",
       "</div>"
      ],
      "text/plain": [
       "   nome                            email\n",
       "24  NaN               mgbove47@gmail.com\n",
       "23  NaN          mariajosesousa@live.com\n",
       "36  NaN           vandoirlima3@gmail.com\n",
       "46  NaN    11968185275rafaella@gmail.com\n",
       "25  NaN  1970lucianodossantos@gmail.com \n",
       "..  ...                              ...\n",
       "37  NaN              zoehpares@gmail.com\n",
       "44  NaN              zoioale@hotmail.com\n",
       "86  NaN  Álvaro.fred.fernandes@gmail.com\n",
       "50  NaN  élienerosaandrade @81gmail.com \n",
       "58  NaN        Ďoutor.nilton@hotmail.Com\n",
       "\n",
       "[1765 rows x 2 columns]"
      ]
     },
     "execution_count": 14,
     "metadata": {},
     "output_type": "execute_result"
    }
   ],
   "source": [
    "deduplicado[deduplicado['nome'].duplicated(keep=False)].sort_values(by='email')"
   ]
  },
  {
   "cell_type": "code",
   "execution_count": 15,
   "id": "prepared-majority",
   "metadata": {},
   "outputs": [
    {
     "data": {
      "text/plain": [
       "1759"
      ]
     },
     "execution_count": 15,
     "metadata": {},
     "output_type": "execute_result"
    }
   ],
   "source": [
    "deduplicado['nome'].isnull().sum() #VEM DA PLANILHA DE AUDIENCIAS"
   ]
  },
  {
   "cell_type": "code",
   "execution_count": 16,
   "id": "accessible-government",
   "metadata": {},
   "outputs": [],
   "source": [
    "crypto = Fernet(key)"
   ]
  },
  {
   "cell_type": "code",
   "execution_count": 17,
   "id": "entitled-toolbox",
   "metadata": {},
   "outputs": [],
   "source": [
    "deduplicado['nome_encript'] = deduplicado['nome'].apply(lambda x: encrypt(x, crypto))"
   ]
  },
  {
   "cell_type": "code",
   "execution_count": 19,
   "id": "biblical-trace",
   "metadata": {},
   "outputs": [],
   "source": [
    "deduplicado.to_excel('../Dados_gerados/lista_nomes_sem_duplicatas.xlsx')"
   ]
  },
  {
   "cell_type": "code",
   "execution_count": null,
   "id": "acknowledged-interpretation",
   "metadata": {},
   "outputs": [],
   "source": []
  }
 ],
 "metadata": {
  "kernelspec": {
   "display_name": "Python 3",
   "language": "python",
   "name": "python3"
  },
  "language_info": {
   "codemirror_mode": {
    "name": "ipython",
    "version": 3
   },
   "file_extension": ".py",
   "mimetype": "text/x-python",
   "name": "python",
   "nbconvert_exporter": "python",
   "pygments_lexer": "ipython3",
   "version": "3.7.4"
  }
 },
 "nbformat": 4,
 "nbformat_minor": 5
}
