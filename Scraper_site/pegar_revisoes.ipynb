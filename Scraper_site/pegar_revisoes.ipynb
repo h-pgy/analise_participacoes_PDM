{
 "cells": [
  {
   "cell_type": "code",
   "execution_count": 1,
   "id": "dietary-study",
   "metadata": {},
   "outputs": [],
   "source": [
    "import requests\n",
    "from bs4 import BeautifulSoup\n",
    "import pandas as pd\n",
    "import datetime"
   ]
  },
  {
   "cell_type": "code",
   "execution_count": 2,
   "id": "civil-wright",
   "metadata": {},
   "outputs": [],
   "source": [
    "def gerar_sopa_sugesotes():\n",
    "    \n",
    "    url_sugestoes = ('https://participemais.prefeitura.sp.gov.br/'\n",
    "        'legislation/processes/116/topics/comments#process-list')\n",
    "    with requests.get(url_sugestoes) as r:\n",
    "        assert r.status_code == 200\n",
    "        html_pg = r.text\n",
    "    sopa = BeautifulSoup(html_pg)\n",
    "    \n",
    "    return sopa"
   ]
  },
  {
   "cell_type": "code",
   "execution_count": 3,
   "id": "superior-sponsorship",
   "metadata": {},
   "outputs": [],
   "source": [
    "def pegar_todas_sugestoes(sopa):\n",
    "    \n",
    "    bloco_comments = sopa.find('div', \n",
    "                               {'class' : 'small-12 medium-9 column row legislation-comments end'})\n",
    "    sugestoes_por_trecho = bloco_comments.find_all('div', {'class' : 'margin'})\n",
    "    \n",
    "    return sugestoes_por_trecho"
   ]
  },
  {
   "cell_type": "code",
   "execution_count": 4,
   "id": "gorgeous-return",
   "metadata": {},
   "outputs": [],
   "source": [
    "def pegar_dados_meta_iniciativa(trecho):\n",
    "\n",
    "    div_meta = trecho.find('div', {'class' : \"comment-section no-margin-bottom\"})\n",
    "    paragrafs = trecho.find_all('p')\n",
    "    \n",
    "    meta_iniciativa = div_meta.find('h4').text.strip()\n",
    "    desc = paragrafs[0].text.strip()\n",
    "    \n",
    "    if len(paragrafs) > 1:\n",
    "        indicador = paragrafs[1].text.strip()\n",
    "        indicador = indicador.replace('\\xa0', '')\n",
    "    else:\n",
    "        indicador = ''\n",
    "        \n",
    "    return meta_iniciativa, desc, indicador"
   ]
  },
  {
   "cell_type": "code",
   "execution_count": 5,
   "id": "illegal-obligation",
   "metadata": {},
   "outputs": [],
   "source": [
    "def div_sugestoes(trecho):\n",
    "    \n",
    "    return trecho.find('div', {'class' : 'topic-comments'})"
   ]
  },
  {
   "cell_type": "code",
   "execution_count": 6,
   "id": "warming-observation",
   "metadata": {},
   "outputs": [],
   "source": [
    "def pegar_qtd_sugests(sugests_div):\n",
    "    \n",
    "    qtd_sugests = sugests_div.find('div', {'class' : 'topic-comments-count'}).text.strip()\n",
    "    if qtd_sugests.lower().startswith('uma'):\n",
    "        qtd_sugests = 1\n",
    "    else:\n",
    "        qtd_sugests = int(''.join([c for c in qtd_sugests if c.isdigit()]))\n",
    "    \n",
    "    return qtd_sugests"
   ]
  },
  {
   "cell_type": "code",
   "execution_count": 7,
   "id": "speaking-jumping",
   "metadata": {},
   "outputs": [],
   "source": [
    "def gerar_sugests_list(trecho):\n",
    "    \n",
    "    sugests_div = div_sugestoes(trecho)\n",
    "    sugests_list = sugests_div.find_all('div', {'class' : 'topic-vote-comment-body'})\n",
    "    assert len(sugests_list) == pegar_qtd_sugests(sugests_div)\n",
    "    \n",
    "    return sugests_list"
   ]
  },
  {
   "cell_type": "code",
   "execution_count": 8,
   "id": "valid-samoa",
   "metadata": {},
   "outputs": [],
   "source": [
    "def categoria_sugest(sugest):\n",
    "    \n",
    "    cat = sugest.find('div', {'class' : \"inline-block topic-vote-comment-option\"})\n",
    "    \n",
    "    return cat.text.strip()"
   ]
  },
  {
   "cell_type": "code",
   "execution_count": 9,
   "id": "satisfied-comedy",
   "metadata": {},
   "outputs": [],
   "source": [
    "def nome_usuario(sugest):\n",
    "    \n",
    "    nom = sugest.find('span', {'class' : 'user-name'})\n",
    "    \n",
    "    \n",
    "    return nom.text.strip()"
   ]
  },
  {
   "cell_type": "code",
   "execution_count": 10,
   "id": "checked-farmer",
   "metadata": {},
   "outputs": [],
   "source": [
    "def url_usuario(sugest):\n",
    "\n",
    "    url = sugest.find('span', {'class' : 'user-name'}).find('a')\n",
    "    \n",
    "    return url['href']"
   ]
  },
  {
   "cell_type": "code",
   "execution_count": 11,
   "id": "spanish-exhaust",
   "metadata": {},
   "outputs": [],
   "source": [
    "def pegar_comment(sugest):\n",
    "    \n",
    "    p = sugest.find('p', \n",
    "                    {'class' : \"no-margin-bottom topic-vote-comment-text\"})\n",
    "    \n",
    "    return p.text.strip()"
   ]
  },
  {
   "cell_type": "code",
   "execution_count": 12,
   "id": "affecting-australia",
   "metadata": {},
   "outputs": [],
   "source": [
    "sopa = gerar_sopa_sugesotes()"
   ]
  },
  {
   "cell_type": "code",
   "execution_count": 13,
   "id": "finished-stomach",
   "metadata": {},
   "outputs": [],
   "source": [
    "sugestoes_por_trecho = pegar_todas_sugestoes(sopa)"
   ]
  },
  {
   "cell_type": "code",
   "execution_count": 14,
   "id": "present-tobago",
   "metadata": {},
   "outputs": [],
   "source": [
    "total_dados = []\n",
    "\n",
    "for trecho in sugestoes_por_trecho:\n",
    "    \n",
    "    meta_ini, desc, indi = pegar_dados_meta_iniciativa(trecho)\n",
    "    sugestoes = gerar_sugests_list(trecho)\n",
    "    \n",
    "    for sugest in sugestoes:\n",
    "        dados = {'meta_iniciativa' : meta_ini,\n",
    "                'descricao' : desc,\n",
    "                'indicador' : indi,\n",
    "                'categoria' : categoria_sugest(sugest),\n",
    "                'nome_usuario' : nome_usuario(sugest),\n",
    "                'url_usuario' : url_usuario(sugest),\n",
    "                'texto_sugestao' : pegar_comment(sugest)}\n",
    "        \n",
    "        total_dados.append(dados)"
   ]
  },
  {
   "cell_type": "code",
   "execution_count": 15,
   "id": "adequate-baghdad",
   "metadata": {},
   "outputs": [],
   "source": [
    "df = pd.DataFrame(total_dados)"
   ]
  },
  {
   "cell_type": "code",
   "execution_count": 16,
   "id": "native-measurement",
   "metadata": {},
   "outputs": [],
   "source": [
    "path_dados = '..Dados_originais/Dados_site/'"
   ]
  },
  {
   "cell_type": "code",
   "execution_count": 17,
   "id": "illegal-johns",
   "metadata": {},
   "outputs": [],
   "source": [
    "hoje = datetime.datetime.today()\n",
    "nom_arquivo = f'revisoes_pdm_{hoje.day}_{hoje.month}.xlsx'"
   ]
  },
  {
   "cell_type": "code",
   "execution_count": 18,
   "id": "alternative-telephone",
   "metadata": {},
   "outputs": [],
   "source": [
    "df.to_excel(path_dados+nom_arquivo)"
   ]
  },
  {
   "cell_type": "code",
   "execution_count": null,
   "id": "pleased-genome",
   "metadata": {},
   "outputs": [],
   "source": []
  }
 ],
 "metadata": {
  "kernelspec": {
   "display_name": "Python 3",
   "language": "python",
   "name": "python3"
  },
  "language_info": {
   "codemirror_mode": {
    "name": "ipython",
    "version": 3
   },
   "file_extension": ".py",
   "mimetype": "text/x-python",
   "name": "python",
   "nbconvert_exporter": "python",
   "pygments_lexer": "ipython3",
   "version": "3.7.4"
  }
 },
 "nbformat": 4,
 "nbformat_minor": 5
}
