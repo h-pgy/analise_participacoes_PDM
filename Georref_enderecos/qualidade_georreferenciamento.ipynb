{
 "cells": [
  {
   "cell_type": "code",
   "execution_count": 1,
   "id": "covered-houston",
   "metadata": {},
   "outputs": [],
   "source": [
    "import pandas as pd\n",
    "import os\n",
    "import re\n",
    "import json"
   ]
  },
  {
   "cell_type": "code",
   "execution_count": 2,
   "id": "seven-branch",
   "metadata": {},
   "outputs": [],
   "source": [
    "def dados_banco_dados():\n",
    "    \n",
    "    path_dados = '../Dados_originais/Dados_Banco_de_Dados'\n",
    "    files_site = [os.path.join(path_dados, file) for file in os.listdir(path_dados)]\n",
    "    \n",
    "    contrib_f = [f for f in files_site if f.split('\\\\')[-1].startswith('contrib')][0]\n",
    "    prop_f = [f for f in files_site if f.split('\\\\')[-1].startswith('propost')][0]\n",
    "    \n",
    "    return pd.read_csv(contrib_f), pd.read_csv(prop_f)\n",
    "\n",
    "\n",
    "def dados_banco_dados_cep():\n",
    "    \n",
    "    path_dados = '../Dados_originais/Dados_Banco_de_Dados_CEP'\n",
    "    files_site = [os.path.join(path_dados, file) for file in os.listdir(path_dados)]\n",
    "    \n",
    "    contrib_f = [f for f in files_site if f.split('\\\\')[-1].startswith('contrib')][0]\n",
    "    prop_f = [f for f in files_site if f.split('\\\\')[-1].startswith('propost')][0]\n",
    "    \n",
    "    return pd.read_csv(contrib_f), pd.read_csv(prop_f)\n",
    "\n",
    "def get_end_salvo(versao, path = None):\n",
    "    \n",
    "    if path is None:\n",
    "        path = '../Dados_gerados/geocode'\n",
    "    if os.path.exists(path):\n",
    "        pat = 'enderecos_georref_\\d*.json'\n",
    "        files = [os.path.join(path, file) for file in os.listdir(path)\n",
    "                if re.match(pat, file)]\n",
    "\n",
    "        for f in files:\n",
    "            versao_file = os.path.split(f)[-1].split('_')[-1].split('.')[0]\n",
    "            if str(versao) == versao_file:\n",
    "                with open(f) as file:\n",
    "                    return json.load(file)"
   ]
  },
  {
   "cell_type": "code",
   "execution_count": 3,
   "id": "patient-disease",
   "metadata": {},
   "outputs": [],
   "source": [
    "#pegando todos os dados para cruzar\n",
    "\n",
    "contrib, prop = dados_banco_dados()\n",
    "contrib_cep, prop_cep = dados_banco_dados_cep()\n",
    "contrib_georref = pd.read_excel('../Dados_gerados/contrib_georref.xlsx')\n",
    "prop_georref = pd.read_excel('../Dados_gerados/prop_georref.xlsx')\n",
    "enderecos = get_end_salvo(versao = 1)"
   ]
  },
  {
   "cell_type": "code",
   "execution_count": 4,
   "id": "authentic-anthony",
   "metadata": {},
   "outputs": [
    {
     "data": {
      "text/plain": [
       "ID                  int64\n",
       "Numeração          object\n",
       "Título             object\n",
       "Texto              object\n",
       "Opção escolhida    object\n",
       "Sugestão           object\n",
       "Usuário            object\n",
       "Email              object\n",
       "Endereço           object\n",
       "CEP                 int64\n",
       "dtype: object"
      ]
     },
     "execution_count": 4,
     "metadata": {},
     "output_type": "execute_result"
    }
   ],
   "source": [
    "#CEP VEIO COMO NUMERO, tem que arrumar\n",
    "contrib_cep.dtypes"
   ]
  },
  {
   "cell_type": "code",
   "execution_count": 5,
   "id": "wooden-nashville",
   "metadata": {},
   "outputs": [],
   "source": [
    "def arrumar_cep(cep):\n",
    "    \n",
    "    if pd.isnull(cep):\n",
    "        return None\n",
    "    \n",
    "    pat_cep = '^\\d{5}-\\d{3}'\n",
    "    if re.match(pat_cep, str(cep)):\n",
    "        return cep\n",
    "    \n",
    "    else:\n",
    "        cep = str(int(cep))\n",
    "        while len(cep) < 8:\n",
    "            cep = '0' + cep\n",
    "    \n",
    "    return f'{cep[:5]}-{cep[5:]}'"
   ]
  },
  {
   "cell_type": "code",
   "execution_count": 6,
   "id": "rough-exhibition",
   "metadata": {},
   "outputs": [],
   "source": [
    "contrib_cep['CEP'] = contrib_cep['CEP'].apply(arrumar_cep)\n",
    "prop_cep['CEP'] = prop_cep['CEP'].apply(arrumar_cep)"
   ]
  },
  {
   "cell_type": "code",
   "execution_count": 7,
   "id": "integral-pencil",
   "metadata": {},
   "outputs": [],
   "source": [
    "#garantir que todos os dados originais vieram\n",
    "assert prop['ID'].isin(prop_cep['ID']).all()\n",
    "assert prop['ID'].isin(prop_georref['ID']).all()\n",
    "assert prop_georref['ID'].isin(prop_cep['ID']).all()\n",
    "assert contrib['ID'].isin(contrib_cep['ID']).all()\n",
    "assert contrib['ID'].isin(contrib_georref['ID']).all()\n",
    "assert contrib_georref['ID'].isin(contrib_cep['ID']).all()\n"
   ]
  },
  {
   "cell_type": "code",
   "execution_count": 8,
   "id": "designed-earthquake",
   "metadata": {},
   "outputs": [],
   "source": [
    "#mesmo assim acho melhor continuar trabalhando com as bases originais\n",
    "#entao vou fazer merge\n",
    "\n",
    "contrib_cep = contrib_cep[['ID', 'CEP']].copy()\n",
    "prop_cep = prop_cep[['ID', 'CEP']].copy()\n",
    "\n",
    "contrib_georref_cep = pd.merge(contrib_georref, contrib_cep, how = 'left')#left para garantir\n",
    "prop_georref_cep = pd.merge(prop_georref, prop_cep, how = 'left')"
   ]
  },
  {
   "cell_type": "code",
   "execution_count": 9,
   "id": "damaged-scottish",
   "metadata": {},
   "outputs": [],
   "source": [
    "#garantir que todos os enderecos foram georreferenciados\n",
    "assert prop_georref_cep[~prop_georref_cep['Endereco'].isin(enderecos)]['Endereco'].isnull().all()\n",
    "assert contrib_georref_cep[~contrib_georref_cep['Endereço'].isin(enderecos)]['Endereço'].isnull().all()"
   ]
  },
  {
   "cell_type": "code",
   "execution_count": 10,
   "id": "funky-automation",
   "metadata": {},
   "outputs": [],
   "source": [
    "prop_georref_cep.drop('Unnamed: 0', axis = 1, inplace = True)\n",
    "contrib_georref_cep.drop('Unnamed: 0', axis = 1, inplace = True)"
   ]
  },
  {
   "cell_type": "code",
   "execution_count": 11,
   "id": "mature-vancouver",
   "metadata": {},
   "outputs": [],
   "source": [
    "def get_cep_end(end, enderecos_totais):\n",
    "    \n",
    "    if pd.isnull(end):\n",
    "        return None\n",
    "    enderecos_encontrados = enderecos_totais[end]\n",
    "    for endereco in enderecos_encontrados:\n",
    "        for componente in endereco['address_components']:\n",
    "            if 'postal_code' in componente['types']:\n",
    "                return componente['long_name']\n",
    "    \n",
    "    return None"
   ]
  },
  {
   "cell_type": "code",
   "execution_count": 12,
   "id": "parental-paradise",
   "metadata": {},
   "outputs": [],
   "source": [
    "#pegando o CEP que o google devolveu\n",
    "contrib_georref_cep['CEP_Google'] = contrib_georref_cep['Endereço'].apply(\n",
    "    get_cep_end, args = [enderecos] )\n",
    "prop_georref_cep['CEP_Google'] = prop_georref_cep['Endereco'].apply(\n",
    "    get_cep_end, args = [enderecos] )"
   ]
  },
  {
   "cell_type": "code",
   "execution_count": 13,
   "id": "prepared-layer",
   "metadata": {},
   "outputs": [],
   "source": [
    "def check_cep(row):\n",
    "    \n",
    "    if pd.isnull(row['CEP']) and pd.isnull(row['CEP_Google']):\n",
    "        return True\n",
    "    else:\n",
    "        check = row['CEP'] == row['CEP_Google']\n",
    "        return check\n",
    "    "
   ]
  },
  {
   "cell_type": "code",
   "execution_count": 14,
   "id": "considerable-yesterday",
   "metadata": {},
   "outputs": [],
   "source": [
    "comparacao = contrib_georref_cep['CEP_Google'] == contrib_georref_cep['CEP']\n",
    "contrib_georref_cep['check_cep'] = comparacao"
   ]
  },
  {
   "cell_type": "code",
   "execution_count": 15,
   "id": "convenient-rainbow",
   "metadata": {},
   "outputs": [],
   "source": [
    "prop_georref_cep['check_cep'] = prop_georref_cep.apply(check_cep, axis = 1)\n",
    "contrib_georref_cep['check_cep'] = contrib_georref_cep.apply(check_cep, axis = 1)"
   ]
  },
  {
   "cell_type": "code",
   "execution_count": 16,
   "id": "immediate-external",
   "metadata": {},
   "outputs": [
    {
     "data": {
      "text/plain": [
       "0.8113425925925926"
      ]
     },
     "execution_count": 16,
     "metadata": {},
     "output_type": "execute_result"
    }
   ],
   "source": [
    "prop_georref_cep['check_cep'].sum()/len(prop_georref_cep)"
   ]
  },
  {
   "cell_type": "code",
   "execution_count": 17,
   "id": "crucial-shield",
   "metadata": {},
   "outputs": [
    {
     "data": {
      "text/plain": [
       "0.9345670852610707"
      ]
     },
     "execution_count": 17,
     "metadata": {},
     "output_type": "execute_result"
    }
   ],
   "source": [
    "contrib_georref_cep['check_cep'].sum()/len(contrib_georref_cep)"
   ]
  },
  {
   "cell_type": "code",
   "execution_count": 18,
   "id": "industrial-complex",
   "metadata": {},
   "outputs": [],
   "source": [
    "#salvando os datasets com a checagem\n",
    "prop_georref_cep.to_excel('../Dados_gerados/prop_georref_cep.xlsx')\n",
    "contrib_georref_cep.to_excel('../Dados_gerados/contrib_georref_cep.xlsx')"
   ]
  },
  {
   "cell_type": "code",
   "execution_count": 19,
   "id": "closing-personal",
   "metadata": {},
   "outputs": [],
   "source": [
    "#identificando os endereços unicos nao georreferenciados\n",
    "contrib_n_georref  = contrib_georref_cep[\n",
    "    ~contrib_georref_cep['check_cep']]['endereço_original'].unique()\n",
    "prop_n_georref = prop_georref_cep[\n",
    "    ~prop_georref_cep['check_cep']]['endereço_original'].unique()\n",
    "\n",
    "enderecos_n_georref = pd.concat([\n",
    "    pd.Series(contrib_n_georref), pd.Series(prop_n_georref)\n",
    "    ]).unique()\n",
    "\n",
    "#tem que trocar o np.nan por None para o JSON\n",
    "enderecos_n_georref = [item if not pd.isnull(item) else None\n",
    "                       for item in enderecos_n_georref]"
   ]
  },
  {
   "cell_type": "code",
   "execution_count": 20,
   "id": "athletic-montgomery",
   "metadata": {},
   "outputs": [],
   "source": [
    "#salvando json\n",
    "with open('../Dados_gerados/ends_n_georref.json', 'w') as f:\n",
    "    json.dump(list(enderecos_n_georref), f)"
   ]
  },
  {
   "cell_type": "code",
   "execution_count": null,
   "id": "unable-english",
   "metadata": {},
   "outputs": [],
   "source": []
  }
 ],
 "metadata": {
  "kernelspec": {
   "display_name": "Python 3",
   "language": "python",
   "name": "python3"
  },
  "language_info": {
   "codemirror_mode": {
    "name": "ipython",
    "version": 3
   },
   "file_extension": ".py",
   "mimetype": "text/x-python",
   "name": "python",
   "nbconvert_exporter": "python",
   "pygments_lexer": "ipython3",
   "version": "3.7.4"
  }
 },
 "nbformat": 4,
 "nbformat_minor": 5
}
