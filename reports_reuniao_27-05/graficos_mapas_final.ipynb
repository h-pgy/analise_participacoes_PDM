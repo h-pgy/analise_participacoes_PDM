{
 "cells": [
  {
   "cell_type": "code",
   "execution_count": 1,
   "id": "ff89f1c8",
   "metadata": {},
   "outputs": [],
   "source": [
    "import pandas as pd\n",
    "import numpy as np\n",
    "import geopandas as gpd\n",
    "import folium\n",
    "import os\n",
    "import matplotlib.pyplot as plt\n",
    "import seaborn as sns"
   ]
  },
  {
   "cell_type": "code",
   "execution_count": 2,
   "id": "1dd079cd",
   "metadata": {},
   "outputs": [],
   "source": [
    "%matplotlib inline\n",
    "sns.set_theme(\"notebook\", style = 'whitegrid', rc = {'axes.grid' : False,\n",
    "                                                    'figure.figsize':(11.7,8.27)})"
   ]
  },
  {
   "cell_type": "markdown",
   "id": "807c9587",
   "metadata": {},
   "source": [
    "### Abrindo os dados"
   ]
  },
  {
   "cell_type": "code",
   "execution_count": 3,
   "id": "8bc1d096",
   "metadata": {},
   "outputs": [],
   "source": [
    "def get_dados_SEPEP(file_name = 'Base de dados 20210526 - 17h03min.xlsx', sheet_name = 'Sugestão'):\n",
    "    \n",
    "    path_dados = '../Dados_originais/Base_Dados_Sepep/'\n",
    "    \n",
    "    f_path = os.path.join(path_dados, file_name)\n",
    "    sugestoes = pd.read_excel(f_path, sheet_name = sheet_name)\n",
    "    \n",
    "    return sugestoes"
   ]
  },
  {
   "cell_type": "code",
   "execution_count": 4,
   "id": "65bdaacf",
   "metadata": {},
   "outputs": [],
   "source": [
    "def get_dados_SF(file_name = 'Base de Propostas recebidas PLOA2022.xlsx'):\n",
    "    \n",
    "    path_dados = '../Dados_originais/PLOA/'\n",
    "    \n",
    "    f_path = os.path.join(path_dados, file_name)\n",
    "    contribuicoes = pd.read_excel(f_path,\n",
    "                                  sheet_name = 'projeto-de-lei-orcamentaria-anu')\n",
    "    \n",
    "    return contribuicoes"
   ]
  },
  {
   "cell_type": "code",
   "execution_count": 5,
   "id": "137ae2f3",
   "metadata": {},
   "outputs": [],
   "source": [
    "dados_sf = get_dados_SF()"
   ]
  },
  {
   "cell_type": "code",
   "execution_count": 6,
   "id": "24801a71",
   "metadata": {},
   "outputs": [
    {
     "name": "stderr",
     "output_type": "stream",
     "text": [
      "C:\\Users\\h-pgy\\Anaconda3\\lib\\site-packages\\openpyxl\\worksheet\\_reader.py:312: UserWarning: Data Validation extension is not supported and will be removed\n",
      "  warn(msg)\n"
     ]
    }
   ],
   "source": [
    "dados_sepep = get_dados_SEPEP()"
   ]
  },
  {
   "cell_type": "code",
   "execution_count": 7,
   "id": "da3f5f2d",
   "metadata": {},
   "outputs": [],
   "source": [
    "def drop_empty_cols(df):\n",
    "    \n",
    "    df = df.copy()\n",
    "    cols_empty = [col for col, val in \n",
    "                  df.isnull().all().to_dict().items() \n",
    "                  if val]\n",
    "    print(cols_empty)\n",
    "    \n",
    "    df.drop(cols_empty, axis = 1, inplace=True)\n",
    "    \n",
    "    return df"
   ]
  },
  {
   "cell_type": "code",
   "execution_count": 8,
   "id": "5bfe1f63",
   "metadata": {},
   "outputs": [
    {
     "name": "stdout",
     "output_type": "stream",
     "text": [
      "[]\n"
     ]
    }
   ],
   "source": [
    "dados_sf = drop_empty_cols(dados_sf)"
   ]
  },
  {
   "cell_type": "code",
   "execution_count": 9,
   "id": "29da409d",
   "metadata": {},
   "outputs": [
    {
     "name": "stdout",
     "output_type": "stream",
     "text": [
      "['Unnamed: 13', 'Unnamed: 14', 'Unnamed: 15']\n"
     ]
    }
   ],
   "source": [
    "dados_sepep = drop_empty_cols(dados_sepep)"
   ]
  },
  {
   "cell_type": "code",
   "execution_count": 10,
   "id": "f93d7873",
   "metadata": {},
   "outputs": [
    {
     "data": {
      "text/plain": [
       "0"
      ]
     },
     "execution_count": 10,
     "metadata": {},
     "output_type": "execute_result"
    }
   ],
   "source": [
    "dados_sepep.isnull().apply(all, axis = 1).sum()"
   ]
  },
  {
   "cell_type": "code",
   "execution_count": 11,
   "id": "1faf8ad4",
   "metadata": {},
   "outputs": [
    {
     "data": {
      "text/plain": [
       "0"
      ]
     },
     "execution_count": 11,
     "metadata": {},
     "output_type": "execute_result"
    }
   ],
   "source": [
    "dados_sf.isnull().apply(all, axis = 1).sum()"
   ]
  },
  {
   "cell_type": "markdown",
   "id": "889c3b60",
   "metadata": {},
   "source": [
    "#### Criar coluna categorias nos dados da SEPEP"
   ]
  },
  {
   "cell_type": "code",
   "execution_count": 12,
   "id": "fe4b7c4d",
   "metadata": {},
   "outputs": [],
   "source": [
    "de_para_sec_cat = {\n",
    "    'CET' : 'Transportes e Mobilidade',\n",
    "    'CGM' : 'Outros temas',\n",
    "    'SECOM' : 'Outros temas',\n",
    "    'SEHAB' : 'Habitação',\n",
    "    'SEME' : 'Esporte e Lazer',\n",
    "    'SF' : 'Outros temas',\n",
    "    'SGM' : 'Outros temas',\n",
    "    'SIURB' : 'Infraestrutura Urbana e Obras',\n",
    "    'SMADS' : 'Assistência Social',\n",
    "    'SMC' : 'Cultura',\n",
    "    'SMDET' : 'Desenvolvimento Econômico e Trabalho',\n",
    "    'SMDHC' : 'Direitos Humanos e Cidadania',\n",
    "    'SME' : 'Educação',\n",
    "    'SMIT' : 'Inovação e Tecnologia',\n",
    "    'SMPED' : 'Pessoa com Deficiência',\n",
    "    'SMRI' : 'Outros temas',\n",
    "    'SMS' : 'Saúde',\n",
    "    'SMSU' : 'Segurança Urbana',\n",
    "    'SMSUB' : 'Zeladoria Urbana e melhorias de bairro',\n",
    "    'SMT' : 'Transportes e Mobilidade',\n",
    "    'SMUL' : 'Urbanismo e Licenciamento',\n",
    "    'SP-Obras' : 'Infraestrutura Urbana e Obras',\n",
    "    'SVMA' : 'Meio Ambiente'\n",
    "}"
   ]
  },
  {
   "cell_type": "code",
   "execution_count": 13,
   "id": "b5837181",
   "metadata": {},
   "outputs": [],
   "source": [
    "dados_sepep['Categoria'] = dados_sepep['Sec Ajustado'].apply(lambda x: de_para_sec_cat.get(x, 'Outros temas'))"
   ]
  },
  {
   "cell_type": "code",
   "execution_count": 14,
   "id": "da85eb5b",
   "metadata": {},
   "outputs": [
    {
     "data": {
      "text/html": [
       "<div>\n",
       "<style scoped>\n",
       "    .dataframe tbody tr th:only-of-type {\n",
       "        vertical-align: middle;\n",
       "    }\n",
       "\n",
       "    .dataframe tbody tr th {\n",
       "        vertical-align: top;\n",
       "    }\n",
       "\n",
       "    .dataframe thead th {\n",
       "        text-align: right;\n",
       "    }\n",
       "</style>\n",
       "<table border=\"1\" class=\"dataframe\">\n",
       "  <thead>\n",
       "    <tr style=\"text-align: right;\">\n",
       "      <th></th>\n",
       "      <th>Contribuição ID</th>\n",
       "      <th>Sugestão</th>\n",
       "      <th>Cod Sugestão</th>\n",
       "      <th>Sub Origem</th>\n",
       "      <th>Sub Conteúdo</th>\n",
       "      <th>Sub Final</th>\n",
       "      <th>Sugestão.1</th>\n",
       "      <th>Apoio P+</th>\n",
       "      <th>Secretaria</th>\n",
       "      <th>Tema</th>\n",
       "      <th>S-T</th>\n",
       "      <th>Sec Ajustado</th>\n",
       "      <th>Tema Ajustado</th>\n",
       "      <th>Categoria</th>\n",
       "    </tr>\n",
       "  </thead>\n",
       "  <tbody>\n",
       "  </tbody>\n",
       "</table>\n",
       "</div>"
      ],
      "text/plain": [
       "Empty DataFrame\n",
       "Columns: [Contribuição ID, Sugestão, Cod Sugestão, Sub Origem, Sub Conteúdo, Sub Final, Sugestão.1, Apoio P+, Secretaria,  Tema, S-T, Sec Ajustado, Tema Ajustado, Categoria]\n",
       "Index: []"
      ]
     },
     "execution_count": 14,
     "metadata": {},
     "output_type": "execute_result"
    }
   ],
   "source": [
    "dados_sepep[dados_sepep['Categoria']=='Null']"
   ]
  },
  {
   "cell_type": "markdown",
   "id": "73717142",
   "metadata": {},
   "source": [
    "#### Pegando canal pelo ID\n",
    "\n",
    "aqui vamos identificar o id do canal de participação."
   ]
  },
  {
   "cell_type": "code",
   "execution_count": 15,
   "id": "973a0244",
   "metadata": {},
   "outputs": [],
   "source": [
    "def aux_contribuicao_id(item):\n",
    "    \n",
    "    if pd.isnull(item):\n",
    "        return 'Não identificado'\n",
    "    if str(item).startswith('C'):\n",
    "        return int(item.split('.')[0].replace('C', ''))\n",
    "    #se nao começa com C e não é nulo então é P+\n",
    "    else:\n",
    "        return 37"
   ]
  },
  {
   "cell_type": "code",
   "execution_count": 16,
   "id": "b645b8b3",
   "metadata": {},
   "outputs": [],
   "source": [
    "dados_sepep['id_audiencia'] = dados_sepep['Contribuição ID'].apply(aux_contribuicao_id)"
   ]
  },
  {
   "cell_type": "code",
   "execution_count": 17,
   "id": "0e5eccca",
   "metadata": {},
   "outputs": [],
   "source": [
    "#one-liner monstro e meio exagerado hehe\n",
    "de_para_canais = get_dados_SEPEP(sheet_name = 'ID e lista suspensa')[['Municipe', 'Unnamed: 1']].drop(0).rename(\n",
    "                    {'Municipe' : 'id', 'Unnamed: 1' : 'Canal'}, axis =1).replace('\\xa0', np.NaN).dropna().set_index('id')['Canal'].to_dict()"
   ]
  },
  {
   "cell_type": "code",
   "execution_count": 18,
   "id": "2577f8e9",
   "metadata": {},
   "outputs": [],
   "source": [
    "dados_sepep['canal'] = dados_sepep['id_audiencia'].apply(lambda x: de_para_canais[x])"
   ]
  },
  {
   "cell_type": "code",
   "execution_count": 19,
   "id": "e99ead01",
   "metadata": {},
   "outputs": [
    {
     "data": {
      "text/plain": [
       "array(['Santana', 'Itaim Paulista', 'Jabaquara', 'Freguesia', 'Pinheiros',\n",
       "       'Casa Verde', 'Jaçanã', 'Mooca', 'Documento', 'Sé', 'Santo Amaro',\n",
       "       'Itaquera', 'Penha', 'Capela do Socorro', 'Pirituba/Jaraguá',\n",
       "       'Guaianases', 'Lapa', 'Parelheiros', 'São Miguel', \"M'Boi Mirim\",\n",
       "       'Perus', 'Temática 2 (SP Ágil  + SP  Segura e Bem Cuidada)',\n",
       "       'Campo Limpo', 'V Maria V Guilherme', 'Sapopemba', 'Ipiranga',\n",
       "       'Aricanduva',\n",
       "       'Temática 3 (SP Eficiente + SP Global e Sustentável + SP Inovadora e Criativa)',\n",
       "       'São Mateus', 'Butantã', 'Vila Mariana', 'Geral', 'Cidade Ademar',\n",
       "       'Cidade Tiradentes', 'Temática 1 (SP Justa e Inclusiva)',\n",
       "       'Vila Prudente', 'Participe+'], dtype=object)"
      ]
     },
     "execution_count": 19,
     "metadata": {},
     "output_type": "execute_result"
    }
   ],
   "source": [
    "dados_sepep['canal'].unique()"
   ]
  },
  {
   "cell_type": "markdown",
   "id": "7cfd6556",
   "metadata": {},
   "source": [
    "### Arrumando subprefeitura\n",
    "\n",
    "Aqui vamos colocar \"suprarregional\" quando for um canal de participação suprarregional (audiencias temáticas ou geral)"
   ]
  },
  {
   "cell_type": "code",
   "execution_count": 20,
   "id": "ff324fdf",
   "metadata": {},
   "outputs": [],
   "source": [
    "def aux_supraregional(row):\n",
    "    \n",
    "    canais_supra = [\n",
    "        'Temática 3 (SP Eficiente + SP Global e Sustentável + SP Inovadora e Criativa)',\n",
    "        'Temática 2 (SP Ágil  + SP  Segura e Bem Cuidada)',\n",
    "        'Temática 1 (SP Justa e Inclusiva)',\n",
    "        'Participe+',\n",
    "        'Documento',\n",
    "        'Geral'\n",
    "    ]\n",
    "    \n",
    "    if pd.isnull(row['Sub Final']):\n",
    "        \n",
    "        if row['canal'] in canais_supra:\n",
    "            return \"SUPRARREGIONAL\"\n",
    "        else:\n",
    "            print(row)\n",
    "            return \"SUPRARREGIONAL\"\n",
    "    else:\n",
    "        return row['Sub Final']"
   ]
  },
  {
   "cell_type": "code",
   "execution_count": 21,
   "id": "72745206",
   "metadata": {},
   "outputs": [
    {
     "name": "stdout",
     "output_type": "stream",
     "text": [
      "Contribuição ID                                                C29.9\n",
      "Sugestão                                                         5.0\n",
      "Cod Sugestão                                                 C29.9.5\n",
      "Sub Origem                                                       NaN\n",
      "Sub Conteúdo                                                     NaN\n",
      "Sub Final                                                        NaN\n",
      "Sugestão.1         Trabalhando com os programas das escolas para ...\n",
      "Apoio P+                                                         NaN\n",
      "Secretaria                                                     SMDET\n",
      " Tema                                     Capacitação empreendedores\n",
      "S-T                                 SMDET-Capacitação empreendedores\n",
      "Sec Ajustado                                                   SMDET\n",
      "Tema Ajustado                                  Cursos e capacitações\n",
      "Categoria                       Desenvolvimento Econômico e Trabalho\n",
      "id_audiencia                                                      29\n",
      "canal                                                          Mooca\n",
      "Name: 2085, dtype: object\n"
     ]
    }
   ],
   "source": [
    "dados_sepep['subs_final_supra'] = dados_sepep.apply(lambda row: aux_supraregional(row), axis = 1)"
   ]
  },
  {
   "cell_type": "markdown",
   "id": "b6d2a4e6",
   "metadata": {},
   "source": [
    "### Padronizando Subs"
   ]
  },
  {
   "cell_type": "code",
   "execution_count": 22,
   "id": "72db5cad",
   "metadata": {},
   "outputs": [],
   "source": [
    "subs = gpd.read_file('mapas_geosampa/SIRGAS_SHP_subprefeitura/SIRGAS_SHP_subprefeitura_polygon.shp')"
   ]
  },
  {
   "cell_type": "code",
   "execution_count": 23,
   "id": "6e58970c",
   "metadata": {},
   "outputs": [],
   "source": [
    "#especificar a projeção SIRGAS\n",
    "subs.crs = {'init': 'EPSG:4674'}\n"
   ]
  },
  {
   "cell_type": "code",
   "execution_count": 24,
   "id": "1efd14e9",
   "metadata": {},
   "outputs": [],
   "source": [
    "#arrumar o tipo de uma coluna que veio errado\n",
    "subs['sp_id'] = subs['sp_id'].apply(int)"
   ]
  },
  {
   "cell_type": "code",
   "execution_count": 25,
   "id": "8d20deef",
   "metadata": {},
   "outputs": [
    {
     "data": {
      "text/plain": [
       "SUPRARREGIONAL         685\n",
       "Pinheiros              212\n",
       "Perus                  208\n",
       "Sé                     155\n",
       "Lapa                   147\n",
       "Pirituba/Jaraguá       145\n",
       "Butantã                144\n",
       "Capela do Socorro      139\n",
       "Cidade Tiradentes      121\n",
       "São Mateus             119\n",
       "Mooca                  110\n",
       "Santo Amaro            109\n",
       "Itaim Paulista         108\n",
       "Freguesia              102\n",
       "Guaianases             100\n",
       "M'Boi Mirim             99\n",
       "Sapopemba               96\n",
       "Cidade Ademar           96\n",
       "São Miguel              96\n",
       "Jabaquara               94\n",
       "Parelheiros             94\n",
       "Vila Mariana            87\n",
       "Itaquera                83\n",
       "Penha                   82\n",
       "V Maria V Guilherme     76\n",
       "Jaçanã                  75\n",
       "Ermelino Matarazzo      70\n",
       "V Maria/V Guilherme     70\n",
       "Vila Prudente           67\n",
       "Campo Limpo             61\n",
       "Temática 3              56\n",
       "Santana                 51\n",
       "Casa Verde              50\n",
       "Aricanduva              46\n",
       "Ipiranga                25\n",
       "has                      1\n",
       "Name: subs_final_supra, dtype: int64"
      ]
     },
     "execution_count": 25,
     "metadata": {},
     "output_type": "execute_result"
    }
   ],
   "source": [
    "#note que ainda tem alguma sujeira no campo de subprefeituras, vamos arrumar\n",
    "dados_sepep['subs_final_supra'].value_counts()"
   ]
  },
  {
   "cell_type": "code",
   "execution_count": 26,
   "id": "50135c90",
   "metadata": {},
   "outputs": [
    {
     "data": {
      "text/html": [
       "<div>\n",
       "<style scoped>\n",
       "    .dataframe tbody tr th:only-of-type {\n",
       "        vertical-align: middle;\n",
       "    }\n",
       "\n",
       "    .dataframe tbody tr th {\n",
       "        vertical-align: top;\n",
       "    }\n",
       "\n",
       "    .dataframe thead th {\n",
       "        text-align: right;\n",
       "    }\n",
       "</style>\n",
       "<table border=\"1\" class=\"dataframe\">\n",
       "  <thead>\n",
       "    <tr style=\"text-align: right;\">\n",
       "      <th></th>\n",
       "      <th>Contribuição ID</th>\n",
       "      <th>Sugestão</th>\n",
       "      <th>Cod Sugestão</th>\n",
       "      <th>Sub Origem</th>\n",
       "      <th>Sub Conteúdo</th>\n",
       "      <th>Sub Final</th>\n",
       "      <th>Sugestão.1</th>\n",
       "      <th>Apoio P+</th>\n",
       "      <th>Secretaria</th>\n",
       "      <th>Tema</th>\n",
       "      <th>S-T</th>\n",
       "      <th>Sec Ajustado</th>\n",
       "      <th>Tema Ajustado</th>\n",
       "      <th>Categoria</th>\n",
       "      <th>id_audiencia</th>\n",
       "      <th>canal</th>\n",
       "      <th>subs_final_supra</th>\n",
       "    </tr>\n",
       "  </thead>\n",
       "  <tbody>\n",
       "    <tr>\n",
       "      <th>3162</th>\n",
       "      <td>156</td>\n",
       "      <td>NaN</td>\n",
       "      <td>NaN</td>\n",
       "      <td>has</td>\n",
       "      <td>NaN</td>\n",
       "      <td>has</td>\n",
       "      <td>SAÚDE DA POPULAÇÃO NEGRA.  Efetivar o PROGRAMA...</td>\n",
       "      <td>39.0</td>\n",
       "      <td>SMS</td>\n",
       "      <td>Saúde população negra</td>\n",
       "      <td>SMS-Saúde população negra</td>\n",
       "      <td>SMS</td>\n",
       "      <td>Saúde população negra</td>\n",
       "      <td>Saúde</td>\n",
       "      <td>37</td>\n",
       "      <td>Participe+</td>\n",
       "      <td>has</td>\n",
       "    </tr>\n",
       "  </tbody>\n",
       "</table>\n",
       "</div>"
      ],
      "text/plain": [
       "     Contribuição ID  Sugestão Cod Sugestão Sub Origem Sub Conteúdo Sub Final  \\\n",
       "3162             156       NaN          NaN       has           NaN      has    \n",
       "\n",
       "                                             Sugestão.1  Apoio P+ Secretaria  \\\n",
       "3162  SAÚDE DA POPULAÇÃO NEGRA.  Efetivar o PROGRAMA...      39.0        SMS   \n",
       "\n",
       "                       Tema                        S-T Sec Ajustado  \\\n",
       "3162  Saúde população negra  SMS-Saúde população negra          SMS   \n",
       "\n",
       "              Tema Ajustado Categoria  id_audiencia       canal  \\\n",
       "3162  Saúde população negra     Saúde            37  Participe+   \n",
       "\n",
       "     subs_final_supra  \n",
       "3162             has   "
      ]
     },
     "execution_count": 26,
     "metadata": {},
     "output_type": "execute_result"
    }
   ],
   "source": [
    "dados_sepep[dados_sepep['subs_final_supra']=='has ']"
   ]
  },
  {
   "cell_type": "code",
   "execution_count": 27,
   "id": "bc932a52",
   "metadata": {},
   "outputs": [],
   "source": [
    "de_para_subs_sepep = { \n",
    "        'Aricanduva' : 'ARICANDUVA-FORMOSA-CARRAO',\n",
    "        'Butantã' : 'BUTANTA',\n",
    "        'Campo Limpo' : 'CAMPO LIMPO',\n",
    "        'Capela do Socorro' : 'CAPELA DO SOCORRO',\n",
    "        'Casa Verde' : 'CASA VERDE-CACHOEIRINHA',\n",
    "        'Cidade Ademar' : 'CIDADE ADEMAR',\n",
    "        'Cidade Tiradentes' : 'CIDADE TIRADENTES',\n",
    "        'Ermelino Matarazzo' : 'ERMELINO MATARAZZO',\n",
    "        'Freguesia' : 'FREGUESIA-BRASILANDIA',\n",
    "        'Guaianases' : 'GUAIANASES',\n",
    "        'Ipiranga' : 'IPIRANGA',\n",
    "        'Itaim Paulista' : 'ITAIM PAULISTA',\n",
    "        'Itaquera' : 'ITAQUERA',\n",
    "        'Jabaquara' : 'JABAQUARA',\n",
    "        'Jaçanã' : 'JACANA-TREMEMBE',\n",
    "        'Jaçanã/ Tremenbé ' : 'JACANA-TREMEMBE',\n",
    "        'Lapa' : 'LAPA',\n",
    "        \"M'Boi Mirim\" : \"M'BOI MIRIM\",\n",
    "        'Mooca' : 'MOOCA',\n",
    "        'Parelheiros' : 'PARELHEIROS', \n",
    "        'Penha' : 'PENHA',\n",
    "        'Perus' : 'PERUS',\n",
    "        'Pinheiros' : 'PINHEIROS',\n",
    "        'Pirituba/Jaraguá' : 'PIRITUBA-JARAGUA',\n",
    "        'Santana' : 'SANTANA-TUCURUVI',\n",
    "        'Santo Amaro' : 'SANTO AMARO',\n",
    "        'São Mateus' : 'SAO MATEUS',\n",
    "        'São Miguel' : 'SAO MIGUEL',\n",
    "        'Sapopemba' : 'SAPOPEMBA',\n",
    "        'Sé' : 'SE',\n",
    "        'V Maria/V Guilherme' : 'VILA MARIA-VILA GUILHERME',\n",
    "        'V Maria V Guilherme' : 'VILA MARIA-VILA GUILHERME',\n",
    "        'Vila Mariana' : 'VILA MARIANA',\n",
    "        'Vila Prudente' : 'VILA PRUDENTE',\n",
    "        'Temática 3' : 'SUPRARREGIONAL',\n",
    "        'Temática 2' : 'SUPRARREGIONAL',\n",
    "        'Temática 1' : 'SUPRARREGIONAL',\n",
    "        'Geral' : 'SUPRARREGIONAL',\n",
    "        'SUPRARREGIONAL' : 'SUPRARREGIONAL',\n",
    "        'has ' : 'SUPRARREGIONAL',\n",
    "        'NÃO IDENTIFICADO' : 'NÃO IDENTIFICADO'\n",
    "\n",
    "    }"
   ]
  },
  {
   "cell_type": "code",
   "execution_count": 28,
   "id": "61e7058a",
   "metadata": {},
   "outputs": [],
   "source": [
    "#aqui é para dar key error mesmo caso apareça termo novo\n",
    "dados_sepep['subs_padrao'] = dados_sepep['subs_final_supra'].apply(lambda x: de_para_subs_sepep[x])"
   ]
  },
  {
   "cell_type": "code",
   "execution_count": 29,
   "id": "58d7e678",
   "metadata": {},
   "outputs": [],
   "source": [
    "de_para_subs_sf = {\n",
    "    'Aricanduva/Formosa/Carrão' : 'ARICANDUVA-FORMOSA-CARRAO',\n",
    "    'Butantã' : 'BUTANTA',\n",
    "    'Campo Limpo' : 'CAMPO LIMPO',\n",
    "    'Capela do Socorro' : 'CAPELA DO SOCORRO',\n",
    "    'Casa Verde' : 'CASA VERDE-CACHOEIRINHA',\n",
    "    'Cidade Ademar' : 'CIDADE ADEMAR',\n",
    "    'Cidade Tiradentes' : 'CIDADE TIRADENTES',\n",
    "    'Ermelino Matarazzo' : 'ERMELINO MATARAZZO',\n",
    "    'Freguesia/Brasilândia' : 'FREGUESIA-BRASILANDIA',\n",
    "    'Guaianases' : 'GUAIANASES',\n",
    "    'Ipiranga' : 'IPIRANGA',\n",
    "    'Itaim Paulista' : 'ITAIM PAULISTA',\n",
    "    'Itaquera' : 'ITAQUERA',\n",
    "    'Jabaquara' : 'JABAQUARA',\n",
    "    'Jaçanã/Tremembé' : 'JACANA-TREMEMBE',\n",
    "    'Lapa' : 'LAPA',\n",
    "    \"M'Boi Mirim\" : \"M'BOI MIRIM\",\n",
    "    'Mooca' : 'MOOCA',\n",
    "    'Parelheiros' : 'PARELHEIROS', \n",
    "    'Penha' : 'PENHA',\n",
    "    'Perus' : 'PERUS',\n",
    "    'Pinheiros' : 'PINHEIROS',\n",
    "    'Pirituba/Jaraguá' : 'PIRITUBA-JARAGUA',\n",
    "    'Santana/Tucuruvi' : 'SANTANA-TUCURUVI',\n",
    "    'Santo Amaro' : 'SANTO AMARO',\n",
    "    'Sapopemba' : 'SAPOPEMBA',\n",
    "    'São Mateus' : 'SAO MATEUS',\n",
    "    'São Miguel' : 'SAO MIGUEL',\n",
    "    'Sé' : 'SE',\n",
    "    'Vila Maria/Vila Guilherme' : 'VILA MARIA-VILA GUILHERME',\n",
    "    'Vila Mariana' : 'VILA MARIANA',\n",
    "    'Vila Prudente' : 'VILA PRUDENTE'\n",
    "    }"
   ]
  },
  {
   "cell_type": "code",
   "execution_count": 30,
   "id": "1bda106c",
   "metadata": {},
   "outputs": [],
   "source": [
    "dados_sf['subs_padrao'] = dados_sf['Subprefeitura'].apply(lambda x: de_para_subs_sf[x])"
   ]
  },
  {
   "cell_type": "code",
   "execution_count": 31,
   "id": "a3a86f34",
   "metadata": {},
   "outputs": [],
   "source": [
    "dados_sf['count'] = 1\n",
    "dados_sepep['count']=1"
   ]
  },
  {
   "cell_type": "code",
   "execution_count": 32,
   "id": "a2064d03",
   "metadata": {},
   "outputs": [],
   "source": [
    "def qtd_registros_por_subs(df):\n",
    "    \n",
    "    qtd_reg_subs = df.groupby('subs_padrao').count()\\\n",
    "                ['count'].to_dict()\n",
    "    \n",
    "    return qtd_reg_subs"
   ]
  },
  {
   "cell_type": "code",
   "execution_count": 33,
   "id": "b244d953",
   "metadata": {},
   "outputs": [],
   "source": [
    "def add_qtd_reg_col(df_subs, new_col, qtd_reg_dict):\n",
    "    \n",
    "    df_subs = df_subs.copy()\n",
    "    \n",
    "    df_subs[new_col] = df_subs['sp_nome'].apply(lambda x: qtd_reg_dict.get(x, 0))\n",
    "    \n",
    "    return df_subs"
   ]
  },
  {
   "cell_type": "code",
   "execution_count": 34,
   "id": "0ed78251",
   "metadata": {},
   "outputs": [],
   "source": [
    "qtd_por_subs_sepep = qtd_registros_por_subs(dados_sepep)"
   ]
  },
  {
   "cell_type": "code",
   "execution_count": 35,
   "id": "ab7589f4",
   "metadata": {},
   "outputs": [],
   "source": [
    "qtd_por_subs_sf = qtd_registros_por_subs(dados_sf)"
   ]
  },
  {
   "cell_type": "code",
   "execution_count": 36,
   "id": "7b86180d",
   "metadata": {},
   "outputs": [],
   "source": [
    "subs = add_qtd_reg_col(subs, 'qtd_por_subs_sepep', qtd_por_subs_sepep)"
   ]
  },
  {
   "cell_type": "code",
   "execution_count": 37,
   "id": "3326dd5f",
   "metadata": {},
   "outputs": [],
   "source": [
    "subs = add_qtd_reg_col(subs, 'qtd_por_subs_sf', qtd_por_subs_sf)"
   ]
  },
  {
   "cell_type": "code",
   "execution_count": 38,
   "id": "9cdd137d",
   "metadata": {},
   "outputs": [
    {
     "data": {
      "text/html": [
       "<div>\n",
       "<style scoped>\n",
       "    .dataframe tbody tr th:only-of-type {\n",
       "        vertical-align: middle;\n",
       "    }\n",
       "\n",
       "    .dataframe tbody tr th {\n",
       "        vertical-align: top;\n",
       "    }\n",
       "\n",
       "    .dataframe thead th {\n",
       "        text-align: right;\n",
       "    }\n",
       "</style>\n",
       "<table border=\"1\" class=\"dataframe\">\n",
       "  <thead>\n",
       "    <tr style=\"text-align: right;\">\n",
       "      <th></th>\n",
       "      <th>sp_codigo</th>\n",
       "      <th>sp_nome</th>\n",
       "      <th>sp_id</th>\n",
       "      <th>geometry</th>\n",
       "      <th>qtd_por_subs_sepep</th>\n",
       "      <th>qtd_por_subs_sf</th>\n",
       "    </tr>\n",
       "  </thead>\n",
       "  <tbody>\n",
       "    <tr>\n",
       "      <th>5</th>\n",
       "      <td>22</td>\n",
       "      <td>ERMELINO MATARAZZO</td>\n",
       "      <td>8</td>\n",
       "      <td>POLYGON ((349086.305 7399600.645, 349096.094 7...</td>\n",
       "      <td>70</td>\n",
       "      <td>56</td>\n",
       "    </tr>\n",
       "    <tr>\n",
       "      <th>1</th>\n",
       "      <td>03</td>\n",
       "      <td>FREGUESIA-BRASILANDIA</td>\n",
       "      <td>2</td>\n",
       "      <td>POLYGON ((327469.803 7399113.522, 327449.180 7...</td>\n",
       "      <td>102</td>\n",
       "      <td>52</td>\n",
       "    </tr>\n",
       "    <tr>\n",
       "      <th>18</th>\n",
       "      <td>19</td>\n",
       "      <td>CAPELA DO SOCORRO</td>\n",
       "      <td>25</td>\n",
       "      <td>POLYGON ((324527.553 7376998.577, 324527.430 7...</td>\n",
       "      <td>139</td>\n",
       "      <td>94</td>\n",
       "    </tr>\n",
       "  </tbody>\n",
       "</table>\n",
       "</div>"
      ],
      "text/plain": [
       "   sp_codigo                sp_nome  sp_id  \\\n",
       "5         22     ERMELINO MATARAZZO      8   \n",
       "1         03  FREGUESIA-BRASILANDIA      2   \n",
       "18        19      CAPELA DO SOCORRO     25   \n",
       "\n",
       "                                             geometry  qtd_por_subs_sepep  \\\n",
       "5   POLYGON ((349086.305 7399600.645, 349096.094 7...                  70   \n",
       "1   POLYGON ((327469.803 7399113.522, 327449.180 7...                 102   \n",
       "18  POLYGON ((324527.553 7376998.577, 324527.430 7...                 139   \n",
       "\n",
       "    qtd_por_subs_sf  \n",
       "5                56  \n",
       "1                52  \n",
       "18               94  "
      ]
     },
     "execution_count": 38,
     "metadata": {},
     "output_type": "execute_result"
    }
   ],
   "source": [
    "subs.sample(3)"
   ]
  },
  {
   "cell_type": "markdown",
   "id": "d9ca5613",
   "metadata": {},
   "source": [
    "### Plotar mapas por subprefeitura"
   ]
  },
  {
   "cell_type": "code",
   "execution_count": 39,
   "id": "d9ea416b",
   "metadata": {},
   "outputs": [],
   "source": [
    "def cmap_plot(geodf, col, title, f_name = None, path='mapas_subprefeituras_final'):\n",
    "    \n",
    "    if not os.path.exists(path):\n",
    "        os.makedirs(path)\n",
    "    \n",
    "    ax = geodf.plot(column=col, cmap = 'GnBu',\n",
    "                legend_kwds={'label': \"Quantidade\",\n",
    "                             'orientation': \"vertical\"},\n",
    "               legend=True,\n",
    "               figsize = (10, 15))\n",
    "    \n",
    "    plt.axis('off')\n",
    "    \n",
    "    fig = ax.get_figure()\n",
    "    \n",
    "    if f_name is None:\n",
    "        f_name = title+'.png'\n",
    "    \n",
    "    fig.savefig(os.path.join(path, f_name))"
   ]
  },
  {
   "cell_type": "code",
   "execution_count": 40,
   "id": "fdfbdb4c",
   "metadata": {},
   "outputs": [],
   "source": [
    "subs['qtd_por_subs_total'] = subs['qtd_por_subs_sepep'] + subs['qtd_por_subs_sf']"
   ]
  },
  {
   "cell_type": "code",
   "execution_count": 41,
   "id": "b990de70",
   "metadata": {},
   "outputs": [
    {
     "data": {
      "image/png": "[encoded data removed]",
      "text/plain": [
       "<Figure size 720x1080 with 2 Axes>"
      ]
     },
     "metadata": {},
     "output_type": "display_data"
    }
   ],
   "source": [
    "cmap_plot(subs, 'qtd_por_subs_total', 'Quantidade de Sugestões Total por Subprefeitura')"
   ]
  },
  {
   "cell_type": "markdown",
   "id": "0e325189",
   "metadata": {},
   "source": [
    "### Plotar graficos"
   ]
  },
  {
   "cell_type": "code",
   "execution_count": 42,
   "id": "ea8588dc",
   "metadata": {},
   "outputs": [],
   "source": [
    "def plot_qtd(data, y):\n",
    "    \n",
    "    mapa = sns.countplot(y=y, data=data, color = 'steelblue',\n",
    "                       order = data[y].value_counts().index)\n",
    "    return mapa"
   ]
  },
  {
   "cell_type": "code",
   "execution_count": 43,
   "id": "b132f587",
   "metadata": {},
   "outputs": [],
   "source": [
    "def salvar_graficos(mapa, titulo_grafico, path ='graficos_final'):\n",
    "    \n",
    "    if not os.path.exists(path):\n",
    "        os.makedirs(path),\n",
    "    \n",
    "    f_name = f'{titulo_grafico}.png'\n",
    "    f_path = os.path.join(path, f_name)\n",
    "    mapa.figure.savefig(f_path, bbox_inches='tight')\n",
    "    plt.clf"
   ]
  },
  {
   "cell_type": "code",
   "execution_count": 44,
   "id": "ba5d4012",
   "metadata": {},
   "outputs": [],
   "source": [
    "dados_geral = pd.concat([\n",
    "    dados_sf[['Categoria', 'subs_padrao']].copy(),\n",
    "    dados_sepep[['Categoria', 'subs_padrao']].copy()\n",
    "    ])"
   ]
  },
  {
   "cell_type": "code",
   "execution_count": 45,
   "id": "ac0a8632",
   "metadata": {},
   "outputs": [
    {
     "data": {
      "image/png": "[encoded data removed]",
      "text/plain": [
       "<Figure size 842.4x595.44 with 1 Axes>"
      ]
     },
     "metadata": {},
     "output_type": "display_data"
    }
   ],
   "source": [
    "qtd_sugests_por_subs = plot_qtd(dados_geral, 'subs_padrao')"
   ]
  },
  {
   "cell_type": "code",
   "execution_count": 46,
   "id": "3e331f1e",
   "metadata": {},
   "outputs": [],
   "source": [
    "salvar_graficos(qtd_sugests_por_subs, 'Quantidade de Sugestões Geral por Subprefeitura')"
   ]
  },
  {
   "cell_type": "code",
   "execution_count": 47,
   "id": "217ef039",
   "metadata": {},
   "outputs": [
    {
     "data": {
      "image/png": "[encoded data removed]",
      "text/plain": [
       "<Figure size 842.4x595.44 with 1 Axes>"
      ]
     },
     "metadata": {},
     "output_type": "display_data"
    }
   ],
   "source": [
    "qtd_sugests_por_cat = plot_qtd(dados_geral, 'Categoria')"
   ]
  },
  {
   "cell_type": "code",
   "execution_count": 48,
   "id": "1785ba4c",
   "metadata": {},
   "outputs": [],
   "source": [
    "salvar_graficos(qtd_sugests_por_cat, 'Quantidade de Sugestões Geral por Categoria')"
   ]
  },
  {
   "cell_type": "markdown",
   "id": "118d313d",
   "metadata": {},
   "source": [
    "### Dados por canal de entrada SEPEP"
   ]
  },
  {
   "cell_type": "code",
   "execution_count": 49,
   "id": "698b2740",
   "metadata": {},
   "outputs": [
    {
     "data": {
      "text/plain": [
       "array(['Santana', 'Itaim Paulista', 'Jabaquara', 'Freguesia', 'Pinheiros',\n",
       "       'Casa Verde', 'Jaçanã', 'Mooca', 'Documento', 'Sé', 'Santo Amaro',\n",
       "       'Itaquera', 'Penha', 'Capela do Socorro', 'Pirituba/Jaraguá',\n",
       "       'Guaianases', 'Lapa', 'Parelheiros', 'São Miguel', \"M'Boi Mirim\",\n",
       "       'Perus', 'Temática 2 (SP Ágil  + SP  Segura e Bem Cuidada)',\n",
       "       'Campo Limpo', 'V Maria V Guilherme', 'Sapopemba', 'Ipiranga',\n",
       "       'Aricanduva',\n",
       "       'Temática 3 (SP Eficiente + SP Global e Sustentável + SP Inovadora e Criativa)',\n",
       "       'São Mateus', 'Butantã', 'Vila Mariana', 'Geral', 'Cidade Ademar',\n",
       "       'Cidade Tiradentes', 'Temática 1 (SP Justa e Inclusiva)',\n",
       "       'Vila Prudente', 'Participe+'], dtype=object)"
      ]
     },
     "execution_count": 49,
     "metadata": {},
     "output_type": "execute_result"
    }
   ],
   "source": [
    "dados_sepep['canal'].unique()"
   ]
  },
  {
   "cell_type": "code",
   "execution_count": 50,
   "id": "e34f823e",
   "metadata": {},
   "outputs": [],
   "source": [
    "def aux_canal(canal):\n",
    "    \n",
    "    if canal == 'Geral':\n",
    "                return \"Audiência Pública Geral\"\n",
    "    elif canal.startswith('Temática'):\n",
    "        return \"Audiências Temáticas\"\n",
    "    elif canal == 'Participe+':\n",
    "        return \"Portal Participe+\"\n",
    "    elif canal == 'Documento':\n",
    "        return \"Ofícios e outros docs.\"\n",
    "    else:\n",
    "        return 'Audiênca Pública Regional'\n"
   ]
  },
  {
   "cell_type": "code",
   "execution_count": 51,
   "id": "ac09c7d3",
   "metadata": {},
   "outputs": [],
   "source": [
    "dados_sepep['canal_agrupado'] = dados_sepep['canal'].apply(aux_canal)"
   ]
  },
  {
   "cell_type": "code",
   "execution_count": 52,
   "id": "04dd8c76",
   "metadata": {},
   "outputs": [
    {
     "data": {
      "text/plain": [
       "Audiênca Pública Regional    2303\n",
       "Portal Participe+            1072\n",
       "Audiências Temáticas          358\n",
       "Ofícios e outros docs.        255\n",
       "Audiência Pública Geral        91\n",
       "Name: canal_agrupado, dtype: int64"
      ]
     },
     "execution_count": 52,
     "metadata": {},
     "output_type": "execute_result"
    }
   ],
   "source": [
    "dados_sepep['canal_agrupado'].value_counts()"
   ]
  },
  {
   "cell_type": "code",
   "execution_count": 53,
   "id": "4d8f6bf5",
   "metadata": {},
   "outputs": [
    {
     "name": "stderr",
     "output_type": "stream",
     "text": [
      "C:\\Users\\h-pgy\\Anaconda3\\lib\\site-packages\\openpyxl\\worksheet\\_reader.py:312: UserWarning: Data Validation extension is not supported and will be removed\n",
      "  warn(msg)\n"
     ]
    }
   ],
   "source": [
    "contribuicoes = get_dados_SEPEP(sheet_name='Contribuição Integral')"
   ]
  },
  {
   "cell_type": "code",
   "execution_count": 54,
   "id": "fe649d31",
   "metadata": {},
   "outputs": [
    {
     "name": "stdout",
     "output_type": "stream",
     "text": [
      "['Unnamed: 5']\n"
     ]
    }
   ],
   "source": [
    "contribuicoes = drop_empty_cols(contribuicoes)"
   ]
  },
  {
   "cell_type": "code",
   "execution_count": 55,
   "id": "567099a3",
   "metadata": {},
   "outputs": [
    {
     "data": {
      "text/plain": [
       "0"
      ]
     },
     "execution_count": 55,
     "metadata": {},
     "output_type": "execute_result"
    }
   ],
   "source": [
    "contribuicoes.isnull().apply(all, axis = 1).sum()"
   ]
  },
  {
   "cell_type": "code",
   "execution_count": 56,
   "id": "b2dc4453",
   "metadata": {},
   "outputs": [
    {
     "data": {
      "text/html": [
       "<div>\n",
       "<style scoped>\n",
       "    .dataframe tbody tr th:only-of-type {\n",
       "        vertical-align: middle;\n",
       "    }\n",
       "\n",
       "    .dataframe tbody tr th {\n",
       "        vertical-align: top;\n",
       "    }\n",
       "\n",
       "    .dataframe thead th {\n",
       "        text-align: right;\n",
       "    }\n",
       "</style>\n",
       "<table border=\"1\" class=\"dataframe\">\n",
       "  <thead>\n",
       "    <tr style=\"text-align: right;\">\n",
       "      <th></th>\n",
       "      <th>Municipe ID</th>\n",
       "      <th>Contribuição ID</th>\n",
       "      <th>Sub Origem</th>\n",
       "      <th>Contribuição (revisada)</th>\n",
       "      <th>Apoio P+</th>\n",
       "    </tr>\n",
       "  </thead>\n",
       "  <tbody>\n",
       "    <tr>\n",
       "      <th>0</th>\n",
       "      <td>1.10</td>\n",
       "      <td>1.10</td>\n",
       "      <td>NaN</td>\n",
       "      <td>Boa tarde a todas e todos, meu nome é Francisc...</td>\n",
       "      <td>NaN</td>\n",
       "    </tr>\n",
       "    <tr>\n",
       "      <th>1</th>\n",
       "      <td>1.10</td>\n",
       "      <td>1.10</td>\n",
       "      <td>NaN</td>\n",
       "      <td>Oi Sou Mário Sérgio Bortolotto, por favor você...</td>\n",
       "      <td>NaN</td>\n",
       "    </tr>\n",
       "    <tr>\n",
       "      <th>2</th>\n",
       "      <td>1.11</td>\n",
       "      <td>1.11</td>\n",
       "      <td>NaN</td>\n",
       "      <td>Então boa tarde a todos e todas.  Eu comprimen...</td>\n",
       "      <td>NaN</td>\n",
       "    </tr>\n",
       "    <tr>\n",
       "      <th>3</th>\n",
       "      <td>1.12</td>\n",
       "      <td>1.12</td>\n",
       "      <td>NaN</td>\n",
       "      <td>Muito obrigada agradeço a oportunidade, eu tam...</td>\n",
       "      <td>NaN</td>\n",
       "    </tr>\n",
       "    <tr>\n",
       "      <th>4</th>\n",
       "      <td>1.13</td>\n",
       "      <td>1.13</td>\n",
       "      <td>NaN</td>\n",
       "      <td>Bom dia a todos, meu nome é Maria Luiza Kovals...</td>\n",
       "      <td>NaN</td>\n",
       "    </tr>\n",
       "  </tbody>\n",
       "</table>\n",
       "</div>"
      ],
      "text/plain": [
       "   Municipe ID  Contribuição ID Sub Origem  \\\n",
       "0         1.10             1.10        NaN   \n",
       "1         1.10             1.10        NaN   \n",
       "2         1.11             1.11        NaN   \n",
       "3         1.12             1.12        NaN   \n",
       "4         1.13             1.13        NaN   \n",
       "\n",
       "                             Contribuição (revisada)  Apoio P+  \n",
       "0  Boa tarde a todas e todos, meu nome é Francisc...       NaN  \n",
       "1  Oi Sou Mário Sérgio Bortolotto, por favor você...       NaN  \n",
       "2  Então boa tarde a todos e todas.  Eu comprimen...       NaN  \n",
       "3  Muito obrigada agradeço a oportunidade, eu tam...       NaN  \n",
       "4  Bom dia a todos, meu nome é Maria Luiza Kovals...       NaN  "
      ]
     },
     "execution_count": 56,
     "metadata": {},
     "output_type": "execute_result"
    }
   ],
   "source": [
    "contribuicoes.head()"
   ]
  },
  {
   "cell_type": "code",
   "execution_count": 57,
   "id": "07a2014f",
   "metadata": {},
   "outputs": [],
   "source": [
    "def aux_id_cointribuicao(item):\n",
    "    \n",
    "    if pd.isnull(item):\n",
    "        return None\n",
    "    else:\n",
    "        item = str(item)\n",
    "        if item.startswith('37'):\n",
    "            return 37\n",
    "        else:\n",
    "            return int(item.split('.')[0])"
   ]
  },
  {
   "cell_type": "code",
   "execution_count": 58,
   "id": "bda3c7a5",
   "metadata": {},
   "outputs": [],
   "source": [
    "contribuicoes['id_canal'] = contribuicoes['Contribuição ID'].apply(aux_id_cointribuicao)"
   ]
  },
  {
   "cell_type": "code",
   "execution_count": 59,
   "id": "8cb17241",
   "metadata": {},
   "outputs": [
    {
     "data": {
      "text/plain": [
       "array([ 1, 10, 11, 12, 13, 14, 15, 16, 17, 18, 19,  2, 20, 21, 22, 23, 24,\n",
       "       25, 26, 27, 28, 29,  3, 30, 31, 32, 33, 34, 35, 36, 38,  4,  5,  6,\n",
       "        7,  8,  9, 37], dtype=int64)"
      ]
     },
     "execution_count": 59,
     "metadata": {},
     "output_type": "execute_result"
    }
   ],
   "source": [
    "contribuicoes['id_canal'].unique()"
   ]
  },
  {
   "cell_type": "code",
   "execution_count": 60,
   "id": "dd07d51b",
   "metadata": {},
   "outputs": [],
   "source": [
    "contribuicoes['canal'] = contribuicoes['id_canal'].apply(lambda x: de_para_canais[x])"
   ]
  },
  {
   "cell_type": "code",
   "execution_count": 61,
   "id": "a8655b91",
   "metadata": {},
   "outputs": [],
   "source": [
    "contribuicoes['canal_agrupado'] = contribuicoes['canal'].apply(aux_canal)"
   ]
  },
  {
   "cell_type": "code",
   "execution_count": 62,
   "id": "4cba433b",
   "metadata": {},
   "outputs": [
    {
     "data": {
      "text/plain": [
       "Portal Participe+            864\n",
       "Audiênca Pública Regional    551\n",
       "Audiências Temáticas          77\n",
       "Audiência Pública Geral       23\n",
       "Ofícios e outros docs.         9\n",
       "Name: canal_agrupado, dtype: int64"
      ]
     },
     "execution_count": 62,
     "metadata": {},
     "output_type": "execute_result"
    }
   ],
   "source": [
    "contribuicoes['canal_agrupado'].value_counts()"
   ]
  },
  {
   "cell_type": "code",
   "execution_count": 63,
   "id": "65d27f08",
   "metadata": {},
   "outputs": [],
   "source": [
    "contrib_audi_regionais = contribuicoes[contribuicoes['canal_agrupado']=='Audiênca Pública Regional'].copy()"
   ]
  },
  {
   "cell_type": "code",
   "execution_count": 64,
   "id": "9c30f924",
   "metadata": {},
   "outputs": [
    {
     "data": {
      "text/html": [
       "<div>\n",
       "<style scoped>\n",
       "    .dataframe tbody tr th:only-of-type {\n",
       "        vertical-align: middle;\n",
       "    }\n",
       "\n",
       "    .dataframe tbody tr th {\n",
       "        vertical-align: top;\n",
       "    }\n",
       "\n",
       "    .dataframe thead th {\n",
       "        text-align: right;\n",
       "    }\n",
       "</style>\n",
       "<table border=\"1\" class=\"dataframe\">\n",
       "  <thead>\n",
       "    <tr style=\"text-align: right;\">\n",
       "      <th></th>\n",
       "      <th>Municipe ID</th>\n",
       "      <th>Contribuição ID</th>\n",
       "      <th>Sub Origem</th>\n",
       "      <th>Contribuição (revisada)</th>\n",
       "      <th>Apoio P+</th>\n",
       "      <th>id_canal</th>\n",
       "      <th>canal</th>\n",
       "      <th>canal_agrupado</th>\n",
       "    </tr>\n",
       "  </thead>\n",
       "  <tbody>\n",
       "    <tr>\n",
       "      <th>412</th>\n",
       "      <td>31.10</td>\n",
       "      <td>31.10</td>\n",
       "      <td>NaN</td>\n",
       "      <td>Boa noite a todos os presentes. Boa noite,  vi...</td>\n",
       "      <td>NaN</td>\n",
       "      <td>31</td>\n",
       "      <td>Vila Prudente</td>\n",
       "      <td>Audiênca Pública Regional</td>\n",
       "    </tr>\n",
       "    <tr>\n",
       "      <th>413</th>\n",
       "      <td>31.10</td>\n",
       "      <td>31.10</td>\n",
       "      <td>NaN</td>\n",
       "      <td>Boa noite, obrigado. Eu também tive dificuldad...</td>\n",
       "      <td>NaN</td>\n",
       "      <td>31</td>\n",
       "      <td>Vila Prudente</td>\n",
       "      <td>Audiênca Pública Regional</td>\n",
       "    </tr>\n",
       "    <tr>\n",
       "      <th>414</th>\n",
       "      <td>31.11</td>\n",
       "      <td>31.11</td>\n",
       "      <td>NaN</td>\n",
       "      <td>Boa noite. Primeiramente agradecer a oportunid...</td>\n",
       "      <td>NaN</td>\n",
       "      <td>31</td>\n",
       "      <td>Vila Prudente</td>\n",
       "      <td>Audiênca Pública Regional</td>\n",
       "    </tr>\n",
       "    <tr>\n",
       "      <th>415</th>\n",
       "      <td>31.12</td>\n",
       "      <td>31.12</td>\n",
       "      <td>NaN</td>\n",
       "      <td>Olá pessoal, boa noite a todos. Minha satisfaç...</td>\n",
       "      <td>NaN</td>\n",
       "      <td>31</td>\n",
       "      <td>Vila Prudente</td>\n",
       "      <td>Audiênca Pública Regional</td>\n",
       "    </tr>\n",
       "    <tr>\n",
       "      <th>416</th>\n",
       "      <td>31.13</td>\n",
       "      <td>31.13</td>\n",
       "      <td>NaN</td>\n",
       "      <td>Boa noite a todos, eu quero agradecer o convit...</td>\n",
       "      <td>NaN</td>\n",
       "      <td>31</td>\n",
       "      <td>Vila Prudente</td>\n",
       "      <td>Audiênca Pública Regional</td>\n",
       "    </tr>\n",
       "    <tr>\n",
       "      <th>417</th>\n",
       "      <td>31.14</td>\n",
       "      <td>31.14</td>\n",
       "      <td>NaN</td>\n",
       "      <td>Boa noite a todos. Agradeço a oportunidade tam...</td>\n",
       "      <td>NaN</td>\n",
       "      <td>31</td>\n",
       "      <td>Vila Prudente</td>\n",
       "      <td>Audiênca Pública Regional</td>\n",
       "    </tr>\n",
       "    <tr>\n",
       "      <th>418</th>\n",
       "      <td>31.15</td>\n",
       "      <td>31.15</td>\n",
       "      <td>NaN</td>\n",
       "      <td>Boa noite a todos e todas. Estão me ouvindo? E...</td>\n",
       "      <td>NaN</td>\n",
       "      <td>31</td>\n",
       "      <td>Vila Prudente</td>\n",
       "      <td>Audiênca Pública Regional</td>\n",
       "    </tr>\n",
       "    <tr>\n",
       "      <th>419</th>\n",
       "      <td>31.16</td>\n",
       "      <td>31.16</td>\n",
       "      <td>NaN</td>\n",
       "      <td>Boa noite a todos, boa noite a todas. Quero me...</td>\n",
       "      <td>NaN</td>\n",
       "      <td>31</td>\n",
       "      <td>Vila Prudente</td>\n",
       "      <td>Audiênca Pública Regional</td>\n",
       "    </tr>\n",
       "    <tr>\n",
       "      <th>420</th>\n",
       "      <td>31.17</td>\n",
       "      <td>31.17</td>\n",
       "      <td>NaN</td>\n",
       "      <td>Eu já quero começar a reunião fazendo um desab...</td>\n",
       "      <td>NaN</td>\n",
       "      <td>31</td>\n",
       "      <td>Vila Prudente</td>\n",
       "      <td>Audiênca Pública Regional</td>\n",
       "    </tr>\n",
       "    <tr>\n",
       "      <th>421</th>\n",
       "      <td>31.18</td>\n",
       "      <td>31.18</td>\n",
       "      <td>NaN</td>\n",
       "      <td>Boa noite. Então eu sou o Manoel dos Santos de...</td>\n",
       "      <td>NaN</td>\n",
       "      <td>31</td>\n",
       "      <td>Vila Prudente</td>\n",
       "      <td>Audiênca Pública Regional</td>\n",
       "    </tr>\n",
       "    <tr>\n",
       "      <th>422</th>\n",
       "      <td>31.19</td>\n",
       "      <td>31.19</td>\n",
       "      <td>NaN</td>\n",
       "      <td>Sem contribuições</td>\n",
       "      <td>NaN</td>\n",
       "      <td>31</td>\n",
       "      <td>Vila Prudente</td>\n",
       "      <td>Audiênca Pública Regional</td>\n",
       "    </tr>\n",
       "    <tr>\n",
       "      <th>423</th>\n",
       "      <td>31.20</td>\n",
       "      <td>31.20</td>\n",
       "      <td>NaN</td>\n",
       "      <td>Primeiramente boa noite a todos. Agradeço a op...</td>\n",
       "      <td>NaN</td>\n",
       "      <td>31</td>\n",
       "      <td>Vila Prudente</td>\n",
       "      <td>Audiênca Pública Regional</td>\n",
       "    </tr>\n",
       "    <tr>\n",
       "      <th>424</th>\n",
       "      <td>31.20</td>\n",
       "      <td>31.20</td>\n",
       "      <td>NaN</td>\n",
       "      <td>Boa noite a todos. Gostaria de agradecer a tod...</td>\n",
       "      <td>NaN</td>\n",
       "      <td>31</td>\n",
       "      <td>Vila Prudente</td>\n",
       "      <td>Audiênca Pública Regional</td>\n",
       "    </tr>\n",
       "    <tr>\n",
       "      <th>425</th>\n",
       "      <td>31.21</td>\n",
       "      <td>31.21</td>\n",
       "      <td>NaN</td>\n",
       "      <td>Boa noite. Quero saudar toda população aqui pr...</td>\n",
       "      <td>NaN</td>\n",
       "      <td>31</td>\n",
       "      <td>Vila Prudente</td>\n",
       "      <td>Audiênca Pública Regional</td>\n",
       "    </tr>\n",
       "    <tr>\n",
       "      <th>426</th>\n",
       "      <td>31.30</td>\n",
       "      <td>31.30</td>\n",
       "      <td>NaN</td>\n",
       "      <td>Audio com problema</td>\n",
       "      <td>NaN</td>\n",
       "      <td>31</td>\n",
       "      <td>Vila Prudente</td>\n",
       "      <td>Audiênca Pública Regional</td>\n",
       "    </tr>\n",
       "    <tr>\n",
       "      <th>427</th>\n",
       "      <td>31.40</td>\n",
       "      <td>31.40</td>\n",
       "      <td>NaN</td>\n",
       "      <td>Olá Boa noite, estão me ouvindo? Prazer aqui f...</td>\n",
       "      <td>NaN</td>\n",
       "      <td>31</td>\n",
       "      <td>Vila Prudente</td>\n",
       "      <td>Audiênca Pública Regional</td>\n",
       "    </tr>\n",
       "    <tr>\n",
       "      <th>428</th>\n",
       "      <td>31.50</td>\n",
       "      <td>31.50</td>\n",
       "      <td>NaN</td>\n",
       "      <td>Boa noite a todos. É um prazer estar participa...</td>\n",
       "      <td>NaN</td>\n",
       "      <td>31</td>\n",
       "      <td>Vila Prudente</td>\n",
       "      <td>Audiênca Pública Regional</td>\n",
       "    </tr>\n",
       "    <tr>\n",
       "      <th>429</th>\n",
       "      <td>31.60</td>\n",
       "      <td>31.60</td>\n",
       "      <td>NaN</td>\n",
       "      <td>Boa noite. Na verdade, eu queria só aqui dizer...</td>\n",
       "      <td>NaN</td>\n",
       "      <td>31</td>\n",
       "      <td>Vila Prudente</td>\n",
       "      <td>Audiênca Pública Regional</td>\n",
       "    </tr>\n",
       "    <tr>\n",
       "      <th>430</th>\n",
       "      <td>31.70</td>\n",
       "      <td>31.70</td>\n",
       "      <td>NaN</td>\n",
       "      <td>Olá, boa noite. Primeiramente eu queria agrade...</td>\n",
       "      <td>NaN</td>\n",
       "      <td>31</td>\n",
       "      <td>Vila Prudente</td>\n",
       "      <td>Audiênca Pública Regional</td>\n",
       "    </tr>\n",
       "    <tr>\n",
       "      <th>431</th>\n",
       "      <td>31.80</td>\n",
       "      <td>31.80</td>\n",
       "      <td>NaN</td>\n",
       "      <td>Boa noite a todas e a todos. Em nome da Eliset...</td>\n",
       "      <td>NaN</td>\n",
       "      <td>31</td>\n",
       "      <td>Vila Prudente</td>\n",
       "      <td>Audiênca Pública Regional</td>\n",
       "    </tr>\n",
       "    <tr>\n",
       "      <th>432</th>\n",
       "      <td>31.90</td>\n",
       "      <td>31.90</td>\n",
       "      <td>NaN</td>\n",
       "      <td>Boa noite a todas e a todos, as autoridades pr...</td>\n",
       "      <td>NaN</td>\n",
       "      <td>31</td>\n",
       "      <td>Vila Prudente</td>\n",
       "      <td>Audiênca Pública Regional</td>\n",
       "    </tr>\n",
       "  </tbody>\n",
       "</table>\n",
       "</div>"
      ],
      "text/plain": [
       "     Municipe ID  Contribuição ID Sub Origem  \\\n",
       "412        31.10            31.10        NaN   \n",
       "413        31.10            31.10        NaN   \n",
       "414        31.11            31.11        NaN   \n",
       "415        31.12            31.12        NaN   \n",
       "416        31.13            31.13        NaN   \n",
       "417        31.14            31.14        NaN   \n",
       "418        31.15            31.15        NaN   \n",
       "419        31.16            31.16        NaN   \n",
       "420        31.17            31.17        NaN   \n",
       "421        31.18            31.18        NaN   \n",
       "422        31.19            31.19        NaN   \n",
       "423        31.20            31.20        NaN   \n",
       "424        31.20            31.20        NaN   \n",
       "425        31.21            31.21        NaN   \n",
       "426        31.30            31.30        NaN   \n",
       "427        31.40            31.40        NaN   \n",
       "428        31.50            31.50        NaN   \n",
       "429        31.60            31.60        NaN   \n",
       "430        31.70            31.70        NaN   \n",
       "431        31.80            31.80        NaN   \n",
       "432        31.90            31.90        NaN   \n",
       "\n",
       "                               Contribuição (revisada)  Apoio P+  id_canal  \\\n",
       "412  Boa noite a todos os presentes. Boa noite,  vi...       NaN        31   \n",
       "413  Boa noite, obrigado. Eu também tive dificuldad...       NaN        31   \n",
       "414  Boa noite. Primeiramente agradecer a oportunid...       NaN        31   \n",
       "415  Olá pessoal, boa noite a todos. Minha satisfaç...       NaN        31   \n",
       "416  Boa noite a todos, eu quero agradecer o convit...       NaN        31   \n",
       "417  Boa noite a todos. Agradeço a oportunidade tam...       NaN        31   \n",
       "418  Boa noite a todos e todas. Estão me ouvindo? E...       NaN        31   \n",
       "419  Boa noite a todos, boa noite a todas. Quero me...       NaN        31   \n",
       "420  Eu já quero começar a reunião fazendo um desab...       NaN        31   \n",
       "421  Boa noite. Então eu sou o Manoel dos Santos de...       NaN        31   \n",
       "422                                  Sem contribuições       NaN        31   \n",
       "423  Primeiramente boa noite a todos. Agradeço a op...       NaN        31   \n",
       "424  Boa noite a todos. Gostaria de agradecer a tod...       NaN        31   \n",
       "425  Boa noite. Quero saudar toda população aqui pr...       NaN        31   \n",
       "426                                 Audio com problema       NaN        31   \n",
       "427  Olá Boa noite, estão me ouvindo? Prazer aqui f...       NaN        31   \n",
       "428  Boa noite a todos. É um prazer estar participa...       NaN        31   \n",
       "429  Boa noite. Na verdade, eu queria só aqui dizer...       NaN        31   \n",
       "430  Olá, boa noite. Primeiramente eu queria agrade...       NaN        31   \n",
       "431  Boa noite a todas e a todos. Em nome da Eliset...       NaN        31   \n",
       "432  Boa noite a todas e a todos, as autoridades pr...       NaN        31   \n",
       "\n",
       "             canal             canal_agrupado  \n",
       "412  Vila Prudente  Audiênca Pública Regional  \n",
       "413  Vila Prudente  Audiênca Pública Regional  \n",
       "414  Vila Prudente  Audiênca Pública Regional  \n",
       "415  Vila Prudente  Audiênca Pública Regional  \n",
       "416  Vila Prudente  Audiênca Pública Regional  \n",
       "417  Vila Prudente  Audiênca Pública Regional  \n",
       "418  Vila Prudente  Audiênca Pública Regional  \n",
       "419  Vila Prudente  Audiênca Pública Regional  \n",
       "420  Vila Prudente  Audiênca Pública Regional  \n",
       "421  Vila Prudente  Audiênca Pública Regional  \n",
       "422  Vila Prudente  Audiênca Pública Regional  \n",
       "423  Vila Prudente  Audiênca Pública Regional  \n",
       "424  Vila Prudente  Audiênca Pública Regional  \n",
       "425  Vila Prudente  Audiênca Pública Regional  \n",
       "426  Vila Prudente  Audiênca Pública Regional  \n",
       "427  Vila Prudente  Audiênca Pública Regional  \n",
       "428  Vila Prudente  Audiênca Pública Regional  \n",
       "429  Vila Prudente  Audiênca Pública Regional  \n",
       "430  Vila Prudente  Audiênca Pública Regional  \n",
       "431  Vila Prudente  Audiênca Pública Regional  \n",
       "432  Vila Prudente  Audiênca Pública Regional  "
      ]
     },
     "execution_count": 64,
     "metadata": {},
     "output_type": "execute_result"
    }
   ],
   "source": [
    "contrib_audi_regionais[contrib_audi_regionais['Sub Origem'].isnull()]"
   ]
  },
  {
   "cell_type": "code",
   "execution_count": 65,
   "id": "3592d88f",
   "metadata": {},
   "outputs": [],
   "source": [
    "def arrumar_sub_audiencias(row):\n",
    "    \n",
    "    if pd.isnull(row['Sub Origem']):\n",
    "        \n",
    "        return row['canal']\n",
    "    else:\n",
    "        return row['Sub Origem']"
   ]
  },
  {
   "cell_type": "code",
   "execution_count": 66,
   "id": "0aad1904",
   "metadata": {},
   "outputs": [],
   "source": [
    "contrib_audi_regionais['sub_arrumado'] = contrib_audi_regionais.apply(\n",
    "        lambda row: arrumar_sub_audiencias(row), axis =1)"
   ]
  },
  {
   "cell_type": "code",
   "execution_count": 67,
   "id": "4a21887b",
   "metadata": {},
   "outputs": [],
   "source": [
    "contrib_audi_regionais['subs_padrao'] = contrib_audi_regionais['sub_arrumado'].apply(lambda x: de_para_subs_sepep[x])"
   ]
  },
  {
   "cell_type": "code",
   "execution_count": 68,
   "id": "03e7a6b4",
   "metadata": {},
   "outputs": [],
   "source": [
    "contrib_audi_regionais['count'] = 1"
   ]
  },
  {
   "cell_type": "code",
   "execution_count": 69,
   "id": "3fb12631",
   "metadata": {},
   "outputs": [],
   "source": [
    "sugest_audi_regionais = dados_sepep[dados_sepep['canal_agrupado']=='Audiênca Pública Regional'].copy()"
   ]
  },
  {
   "cell_type": "code",
   "execution_count": 70,
   "id": "68b10cfd",
   "metadata": {},
   "outputs": [],
   "source": [
    "falas_audi_regionais = len(contrib_audi_regionais)\n",
    "sugestoes_audi_regionais = len(sugest_audi_regionais)\n",
    "media_sugest_fala = round(sugestoes_audi_regionais/falas_audi_regionais, 0)"
   ]
  },
  {
   "cell_type": "code",
   "execution_count": 71,
   "id": "00b4aa75",
   "metadata": {},
   "outputs": [
    {
     "name": "stdout",
     "output_type": "stream",
     "text": [
      "\n",
      "O total de falas nas Audiências Públicas Regionais do Programa de Metas foi de 551.\n",
      "\n",
      "Ao todo, identificamos nessas falas 2303 sugestões.\n",
      "\n",
      "É uma média de 4.0 sugestões por fala.\n",
      "\n",
      "\n"
     ]
    }
   ],
   "source": [
    "print(f'''\n",
    "O total de falas nas Audiências Públicas Regionais do Programa de Metas foi de {falas_audi_regionais}.\n",
    "\n",
    "Ao todo, identificamos nessas falas {sugestoes_audi_regionais} sugestões.\n",
    "\n",
    "É uma média de {media_sugest_fala} sugestões por fala.\n",
    "\n",
    "''')"
   ]
  },
  {
   "cell_type": "code",
   "execution_count": 72,
   "id": "1d3bdf34",
   "metadata": {},
   "outputs": [],
   "source": [
    "qtd_contrib_audi_por_subs = qtd_registros_por_subs(contrib_audi_regionais)"
   ]
  },
  {
   "cell_type": "code",
   "execution_count": 73,
   "id": "b558ab6c",
   "metadata": {},
   "outputs": [],
   "source": [
    "qtd_sugest_audi_por_subs = qtd_registros_por_subs(sugest_audi_regionais)"
   ]
  },
  {
   "cell_type": "code",
   "execution_count": 74,
   "id": "038b10c8",
   "metadata": {},
   "outputs": [],
   "source": [
    "subs = add_qtd_reg_col(subs, 'qtd_contrib_audi_por_subs', qtd_contrib_audi_por_subs)"
   ]
  },
  {
   "cell_type": "code",
   "execution_count": 75,
   "id": "722425a3",
   "metadata": {},
   "outputs": [],
   "source": [
    "subs = add_qtd_reg_col(subs, 'qtd_sugest_audi_por_subs', qtd_sugest_audi_por_subs)"
   ]
  },
  {
   "cell_type": "markdown",
   "id": "54fb9779",
   "metadata": {},
   "source": [
    "## Arrumando a falta de dados de Ermelino Matarazzo\n",
    "\n",
    "Combinamos colocar na média, então depois se atualizar os dados precisa tirar"
   ]
  },
  {
   "cell_type": "code",
   "execution_count": 76,
   "id": "69d5d8c8",
   "metadata": {},
   "outputs": [],
   "source": [
    "subs.loc[5, 'qtd_contrib_audi_por_subs'] = 10\n",
    "subs.loc[5, 'qtd_sugest_audi_por_subs'] = 40\n"
   ]
  },
  {
   "cell_type": "code",
   "execution_count": 77,
   "id": "4b1e0a76",
   "metadata": {},
   "outputs": [
    {
     "data": {
      "image/png": "[encoded data removed]",
      "text/plain": [
       "<Figure size 720x1080 with 2 Axes>"
      ]
     },
     "metadata": {},
     "output_type": "display_data"
    }
   ],
   "source": [
    "cmap_plot(subs, 'qtd_contrib_audi_por_subs', 'Quantidade de Falas nas Audiências Regionais')"
   ]
  },
  {
   "cell_type": "code",
   "execution_count": 78,
   "id": "34679554",
   "metadata": {},
   "outputs": [
    {
     "data": {
      "image/png": "[encoded data removed]",
      "text/plain": [
       "<Figure size 720x1080 with 2 Axes>"
      ]
     },
     "metadata": {},
     "output_type": "display_data"
    }
   ],
   "source": [
    "cmap_plot(subs, 'qtd_sugest_audi_por_subs', 'Quantidade de Sugestões nas Audiências Regionais')"
   ]
  },
  {
   "cell_type": "code",
   "execution_count": 79,
   "id": "7e906d50",
   "metadata": {},
   "outputs": [],
   "source": [
    "tabela_mapas = subs.copy()"
   ]
  },
  {
   "cell_type": "code",
   "execution_count": 80,
   "id": "8ff97b61",
   "metadata": {},
   "outputs": [],
   "source": [
    "tabela_mapas = tabela_mapas[['sp_nome', 'qtd_por_subs_total', 'qtd_contrib_audi_por_subs', 'qtd_sugest_audi_por_subs']]"
   ]
  },
  {
   "cell_type": "code",
   "execution_count": 81,
   "id": "a1d53d1e",
   "metadata": {},
   "outputs": [],
   "source": [
    "tabela_mapas = tabela_mapas.rename(\n",
    "    {'sp_nome' : 'Subprefeitura',\n",
    "    'qtd_por_subs_total' : 'Total de sugestões (P+, Audiências e PLOA)',\n",
    "    'qtd_contrib_audi_por_subs' : 'Quantidade de falas Audiências Regionais',\n",
    "    'qtd_sugest_audi_por_subs' : 'Quantidade de sugestões Audiencias Regionais'},\n",
    "    axis = 1\n",
    ")"
   ]
  },
  {
   "cell_type": "code",
   "execution_count": 82,
   "id": "2fbfeedd",
   "metadata": {},
   "outputs": [],
   "source": [
    "tabela_mapas.to_excel('tabela_mapas.xlsx', index = False)"
   ]
  },
  {
   "cell_type": "code",
   "execution_count": 83,
   "id": "4577e93c",
   "metadata": {},
   "outputs": [
    {
     "data": {
      "text/html": [
       "<div>\n",
       "<style scoped>\n",
       "    .dataframe tbody tr th:only-of-type {\n",
       "        vertical-align: middle;\n",
       "    }\n",
       "\n",
       "    .dataframe tbody tr th {\n",
       "        vertical-align: top;\n",
       "    }\n",
       "\n",
       "    .dataframe thead th {\n",
       "        text-align: right;\n",
       "    }\n",
       "</style>\n",
       "<table border=\"1\" class=\"dataframe\">\n",
       "  <thead>\n",
       "    <tr style=\"text-align: right;\">\n",
       "      <th></th>\n",
       "      <th>Subprefeitura</th>\n",
       "      <th>Total de sugestões (P+, Audiências e PLOA)</th>\n",
       "      <th>Quantidade de falas Audiências Regionais</th>\n",
       "      <th>Quantidade de sugestões Audiencias Regionais</th>\n",
       "    </tr>\n",
       "  </thead>\n",
       "  <tbody>\n",
       "    <tr>\n",
       "      <th>0</th>\n",
       "      <td>PIRITUBA-JARAGUA</td>\n",
       "      <td>204</td>\n",
       "      <td>23</td>\n",
       "      <td>99</td>\n",
       "    </tr>\n",
       "    <tr>\n",
       "      <th>1</th>\n",
       "      <td>FREGUESIA-BRASILANDIA</td>\n",
       "      <td>154</td>\n",
       "      <td>21</td>\n",
       "      <td>84</td>\n",
       "    </tr>\n",
       "    <tr>\n",
       "      <th>2</th>\n",
       "      <td>CASA VERDE-CACHOEIRINHA</td>\n",
       "      <td>253</td>\n",
       "      <td>16</td>\n",
       "      <td>49</td>\n",
       "    </tr>\n",
       "    <tr>\n",
       "      <th>3</th>\n",
       "      <td>VILA MARIA-VILA GUILHERME</td>\n",
       "      <td>311</td>\n",
       "      <td>21</td>\n",
       "      <td>76</td>\n",
       "    </tr>\n",
       "    <tr>\n",
       "      <th>4</th>\n",
       "      <td>PENHA</td>\n",
       "      <td>181</td>\n",
       "      <td>17</td>\n",
       "      <td>68</td>\n",
       "    </tr>\n",
       "    <tr>\n",
       "      <th>5</th>\n",
       "      <td>ERMELINO MATARAZZO</td>\n",
       "      <td>126</td>\n",
       "      <td>10</td>\n",
       "      <td>40</td>\n",
       "    </tr>\n",
       "    <tr>\n",
       "      <th>6</th>\n",
       "      <td>ITAIM PAULISTA</td>\n",
       "      <td>237</td>\n",
       "      <td>13</td>\n",
       "      <td>45</td>\n",
       "    </tr>\n",
       "    <tr>\n",
       "      <th>7</th>\n",
       "      <td>GUAIANASES</td>\n",
       "      <td>149</td>\n",
       "      <td>14</td>\n",
       "      <td>95</td>\n",
       "    </tr>\n",
       "    <tr>\n",
       "      <th>8</th>\n",
       "      <td>LAPA</td>\n",
       "      <td>200</td>\n",
       "      <td>15</td>\n",
       "      <td>81</td>\n",
       "    </tr>\n",
       "    <tr>\n",
       "      <th>9</th>\n",
       "      <td>SE</td>\n",
       "      <td>217</td>\n",
       "      <td>21</td>\n",
       "      <td>98</td>\n",
       "    </tr>\n",
       "    <tr>\n",
       "      <th>10</th>\n",
       "      <td>MOOCA</td>\n",
       "      <td>166</td>\n",
       "      <td>26</td>\n",
       "      <td>100</td>\n",
       "    </tr>\n",
       "    <tr>\n",
       "      <th>11</th>\n",
       "      <td>ARICANDUVA-FORMOSA-CARRAO</td>\n",
       "      <td>185</td>\n",
       "      <td>8</td>\n",
       "      <td>24</td>\n",
       "    </tr>\n",
       "    <tr>\n",
       "      <th>12</th>\n",
       "      <td>SAO MATEUS</td>\n",
       "      <td>325</td>\n",
       "      <td>25</td>\n",
       "      <td>112</td>\n",
       "    </tr>\n",
       "    <tr>\n",
       "      <th>13</th>\n",
       "      <td>VILA PRUDENTE</td>\n",
       "      <td>107</td>\n",
       "      <td>21</td>\n",
       "      <td>59</td>\n",
       "    </tr>\n",
       "    <tr>\n",
       "      <th>14</th>\n",
       "      <td>BUTANTA</td>\n",
       "      <td>327</td>\n",
       "      <td>26</td>\n",
       "      <td>98</td>\n",
       "    </tr>\n",
       "    <tr>\n",
       "      <th>15</th>\n",
       "      <td>PINHEIROS</td>\n",
       "      <td>286</td>\n",
       "      <td>21</td>\n",
       "      <td>81</td>\n",
       "    </tr>\n",
       "    <tr>\n",
       "      <th>16</th>\n",
       "      <td>CAMPO LIMPO</td>\n",
       "      <td>194</td>\n",
       "      <td>14</td>\n",
       "      <td>36</td>\n",
       "    </tr>\n",
       "    <tr>\n",
       "      <th>17</th>\n",
       "      <td>M'BOI MIRIM</td>\n",
       "      <td>194</td>\n",
       "      <td>17</td>\n",
       "      <td>76</td>\n",
       "    </tr>\n",
       "    <tr>\n",
       "      <th>18</th>\n",
       "      <td>CAPELA DO SOCORRO</td>\n",
       "      <td>233</td>\n",
       "      <td>19</td>\n",
       "      <td>98</td>\n",
       "    </tr>\n",
       "    <tr>\n",
       "      <th>19</th>\n",
       "      <td>PARELHEIROS</td>\n",
       "      <td>202</td>\n",
       "      <td>20</td>\n",
       "      <td>79</td>\n",
       "    </tr>\n",
       "    <tr>\n",
       "      <th>20</th>\n",
       "      <td>CIDADE TIRADENTES</td>\n",
       "      <td>179</td>\n",
       "      <td>24</td>\n",
       "      <td>118</td>\n",
       "    </tr>\n",
       "    <tr>\n",
       "      <th>21</th>\n",
       "      <td>PERUS</td>\n",
       "      <td>322</td>\n",
       "      <td>22</td>\n",
       "      <td>119</td>\n",
       "    </tr>\n",
       "    <tr>\n",
       "      <th>22</th>\n",
       "      <td>SAPOPEMBA</td>\n",
       "      <td>202</td>\n",
       "      <td>20</td>\n",
       "      <td>89</td>\n",
       "    </tr>\n",
       "    <tr>\n",
       "      <th>23</th>\n",
       "      <td>IPIRANGA</td>\n",
       "      <td>117</td>\n",
       "      <td>5</td>\n",
       "      <td>16</td>\n",
       "    </tr>\n",
       "    <tr>\n",
       "      <th>24</th>\n",
       "      <td>VILA MARIANA</td>\n",
       "      <td>194</td>\n",
       "      <td>19</td>\n",
       "      <td>73</td>\n",
       "    </tr>\n",
       "    <tr>\n",
       "      <th>25</th>\n",
       "      <td>CIDADE ADEMAR</td>\n",
       "      <td>153</td>\n",
       "      <td>14</td>\n",
       "      <td>81</td>\n",
       "    </tr>\n",
       "    <tr>\n",
       "      <th>26</th>\n",
       "      <td>JACANA-TREMEMBE</td>\n",
       "      <td>165</td>\n",
       "      <td>14</td>\n",
       "      <td>60</td>\n",
       "    </tr>\n",
       "    <tr>\n",
       "      <th>27</th>\n",
       "      <td>SANTANA-TUCURUVI</td>\n",
       "      <td>102</td>\n",
       "      <td>10</td>\n",
       "      <td>30</td>\n",
       "    </tr>\n",
       "    <tr>\n",
       "      <th>28</th>\n",
       "      <td>SANTO AMARO</td>\n",
       "      <td>220</td>\n",
       "      <td>13</td>\n",
       "      <td>70</td>\n",
       "    </tr>\n",
       "    <tr>\n",
       "      <th>29</th>\n",
       "      <td>JABAQUARA</td>\n",
       "      <td>197</td>\n",
       "      <td>17</td>\n",
       "      <td>74</td>\n",
       "    </tr>\n",
       "    <tr>\n",
       "      <th>30</th>\n",
       "      <td>SAO MIGUEL</td>\n",
       "      <td>176</td>\n",
       "      <td>11</td>\n",
       "      <td>45</td>\n",
       "    </tr>\n",
       "    <tr>\n",
       "      <th>31</th>\n",
       "      <td>ITAQUERA</td>\n",
       "      <td>189</td>\n",
       "      <td>24</td>\n",
       "      <td>69</td>\n",
       "    </tr>\n",
       "  </tbody>\n",
       "</table>\n",
       "</div>"
      ],
      "text/plain": [
       "                Subprefeitura  Total de sugestões (P+, Audiências e PLOA)  \\\n",
       "0            PIRITUBA-JARAGUA                                         204   \n",
       "1       FREGUESIA-BRASILANDIA                                         154   \n",
       "2     CASA VERDE-CACHOEIRINHA                                         253   \n",
       "3   VILA MARIA-VILA GUILHERME                                         311   \n",
       "4                       PENHA                                         181   \n",
       "5          ERMELINO MATARAZZO                                         126   \n",
       "6              ITAIM PAULISTA                                         237   \n",
       "7                  GUAIANASES                                         149   \n",
       "8                        LAPA                                         200   \n",
       "9                          SE                                         217   \n",
       "10                      MOOCA                                         166   \n",
       "11  ARICANDUVA-FORMOSA-CARRAO                                         185   \n",
       "12                 SAO MATEUS                                         325   \n",
       "13              VILA PRUDENTE                                         107   \n",
       "14                    BUTANTA                                         327   \n",
       "15                  PINHEIROS                                         286   \n",
       "16                CAMPO LIMPO                                         194   \n",
       "17                M'BOI MIRIM                                         194   \n",
       "18          CAPELA DO SOCORRO                                         233   \n",
       "19                PARELHEIROS                                         202   \n",
       "20          CIDADE TIRADENTES                                         179   \n",
       "21                      PERUS                                         322   \n",
       "22                  SAPOPEMBA                                         202   \n",
       "23                   IPIRANGA                                         117   \n",
       "24               VILA MARIANA                                         194   \n",
       "25              CIDADE ADEMAR                                         153   \n",
       "26            JACANA-TREMEMBE                                         165   \n",
       "27           SANTANA-TUCURUVI                                         102   \n",
       "28                SANTO AMARO                                         220   \n",
       "29                  JABAQUARA                                         197   \n",
       "30                 SAO MIGUEL                                         176   \n",
       "31                   ITAQUERA                                         189   \n",
       "\n",
       "    Quantidade de falas Audiências Regionais  \\\n",
       "0                                         23   \n",
       "1                                         21   \n",
       "2                                         16   \n",
       "3                                         21   \n",
       "4                                         17   \n",
       "5                                         10   \n",
       "6                                         13   \n",
       "7                                         14   \n",
       "8                                         15   \n",
       "9                                         21   \n",
       "10                                        26   \n",
       "11                                         8   \n",
       "12                                        25   \n",
       "13                                        21   \n",
       "14                                        26   \n",
       "15                                        21   \n",
       "16                                        14   \n",
       "17                                        17   \n",
       "18                                        19   \n",
       "19                                        20   \n",
       "20                                        24   \n",
       "21                                        22   \n",
       "22                                        20   \n",
       "23                                         5   \n",
       "24                                        19   \n",
       "25                                        14   \n",
       "26                                        14   \n",
       "27                                        10   \n",
       "28                                        13   \n",
       "29                                        17   \n",
       "30                                        11   \n",
       "31                                        24   \n",
       "\n",
       "    Quantidade de sugestões Audiencias Regionais  \n",
       "0                                             99  \n",
       "1                                             84  \n",
       "2                                             49  \n",
       "3                                             76  \n",
       "4                                             68  \n",
       "5                                             40  \n",
       "6                                             45  \n",
       "7                                             95  \n",
       "8                                             81  \n",
       "9                                             98  \n",
       "10                                           100  \n",
       "11                                            24  \n",
       "12                                           112  \n",
       "13                                            59  \n",
       "14                                            98  \n",
       "15                                            81  \n",
       "16                                            36  \n",
       "17                                            76  \n",
       "18                                            98  \n",
       "19                                            79  \n",
       "20                                           118  \n",
       "21                                           119  \n",
       "22                                            89  \n",
       "23                                            16  \n",
       "24                                            73  \n",
       "25                                            81  \n",
       "26                                            60  \n",
       "27                                            30  \n",
       "28                                            70  \n",
       "29                                            74  \n",
       "30                                            45  \n",
       "31                                            69  "
      ]
     },
     "execution_count": 83,
     "metadata": {},
     "output_type": "execute_result"
    }
   ],
   "source": [
    "tabela_mapas"
   ]
  },
  {
   "cell_type": "code",
   "execution_count": null,
   "id": "4b6275f4",
   "metadata": {},
   "outputs": [],
   "source": []
  }
 ],
 "metadata": {
  "kernelspec": {
   "display_name": "Python 3",
   "language": "python",
   "name": "python3"
  },
  "language_info": {
   "codemirror_mode": {
    "name": "ipython",
    "version": 3
   },
   "file_extension": ".py",
   "mimetype": "text/x-python",
   "name": "python",
   "nbconvert_exporter": "python",
   "pygments_lexer": "ipython3",
   "version": "3.7.4"
  }
 },
 "nbformat": 4,
 "nbformat_minor": 5
}
