{
 "cells": [
  {
   "cell_type": "code",
   "execution_count": 1,
   "id": "fatty-catch",
   "metadata": {},
   "outputs": [],
   "source": [
    "import requests\n",
    "from bs4 import BeautifulSoup\n",
    "import pandas as pd\n",
    "import datetime"
   ]
  },
  {
   "cell_type": "code",
   "execution_count": 2,
   "id": "preliminary-earth",
   "metadata": {},
   "outputs": [],
   "source": [
    "def gerar_sopa(pg = 1):\n",
    "    \n",
    "    url = ('https://participemais.prefeitura.sp.gov.br/legislation/processes/116/'\n",
    "    'proposals?page={pg}&random_seed=225243')\n",
    "    url = url.format(pg = pg)\n",
    "    \n",
    "    with requests.get(url) as r:\n",
    "        assert r.status_code == 200\n",
    "        html = r.text\n",
    "        \n",
    "    sopa = BeautifulSoup(html)\n",
    "    \n",
    "    return sopa"
   ]
  },
  {
   "cell_type": "code",
   "execution_count": 3,
   "id": "outer-opening",
   "metadata": {},
   "outputs": [],
   "source": [
    "def check_ultima_pag(sopa):\n",
    "    \n",
    "    pagination = sopa.find('div', {'class' : 'pagination-centered'})\n",
    "    ultima = pagination.find_all('li')[-1].text.strip().lower()\n",
    "    if ultima == 'último':\n",
    "        return False\n",
    "    return True"
   ]
  },
  {
   "cell_type": "code",
   "execution_count": 4,
   "id": "altered-colonial",
   "metadata": {},
   "outputs": [],
   "source": [
    "def paineis_propostas(sopa):\n",
    "    \n",
    "    div_propostas = sopa.find('div', {'class' : 'legislation-proposals'})\n",
    "    paineis = div_propostas.find_all('div', {'class' : 'proposal clear'})\n",
    "    \n",
    "    return paineis"
   ]
  },
  {
   "cell_type": "code",
   "execution_count": 5,
   "id": "engaging-physiology",
   "metadata": {},
   "outputs": [],
   "source": [
    "def autor(painel):\n",
    "    \n",
    "    autor = painel.find('span', {'class' : 'author'})\n",
    "    \n",
    "    return autor.text.strip()\n",
    "\n",
    "def titulo(painel):\n",
    "    \n",
    "    return painel.find('h3').text.strip()\n",
    "\n",
    "def link_proposta(painel):\n",
    "    \n",
    "    return painel.find('h3').find('a')['href']\n",
    "\n",
    "\n",
    "#talvez dê para melhorar essa, mas seguimos\n",
    "def data_proposta(painel):\n",
    "    \n",
    "    info_header = painel.find('p', {'class' : 'proposal-info'})\n",
    "    info_header = info_header.text.split('\\n')\n",
    "    \n",
    "    return info_header[4].strip()\n",
    "\n",
    "def qt_apoios(painel):\n",
    "    \n",
    "    qt = painel.find('span', {'class' : 'total-votes center'})\n",
    "    qt = qt.text.strip()\n",
    "    if qt.lower() == 'nenhum apoio':\n",
    "        return 0\n",
    "    else:\n",
    "        return int(''.join([char for char in qt if char.isdigit()]))\n",
    "    \n",
    "def temas(painel):\n",
    "    \n",
    "    temas = painel.find('ul', {'class' : 'no-bullet tags'})\n",
    "    if not temas:\n",
    "        return ''\n",
    "    else:\n",
    "        temas = temas.find_all('a')\n",
    "        return '; '.join(tema.text for tema in temas)\n",
    "    \n",
    "def texto_proposta(painel):\n",
    "    \n",
    "    text = painel.find('div', {'class' : 'proposal-description'})\n",
    "    \n",
    "    return text.text.strip()\n",
    "    "
   ]
  },
  {
   "cell_type": "code",
   "execution_count": 6,
   "id": "optimum-aberdeen",
   "metadata": {},
   "outputs": [
    {
     "name": "stdout",
     "output_type": "stream",
     "text": [
      "1\n",
      "2\n",
      "3\n",
      "4\n",
      "5\n",
      "6\n",
      "7\n",
      "8\n",
      "9\n",
      "10\n",
      "11\n",
      "12\n",
      "13\n",
      "14\n",
      "15\n",
      "16\n",
      "17\n",
      "18\n",
      "19\n",
      "20\n",
      "21\n",
      "22\n",
      "23\n",
      "24\n",
      "25\n",
      "26\n",
      "27\n",
      "28\n",
      "29\n",
      "30\n",
      "31\n",
      "32\n",
      "33\n",
      "34\n",
      "35\n"
     ]
    }
   ],
   "source": [
    "pg_num = 1\n",
    "ultima_pg = False\n",
    "\n",
    "todos_dados = []\n",
    "while not ultima_pg:\n",
    "    print(pg_num)\n",
    "    sopa = gerar_sopa(pg_num)\n",
    "    ultima_pg = check_ultima_pag(sopa)\n",
    "    pg_num +=1\n",
    "    \n",
    "    paineis = paineis_propostas(sopa)\n",
    "    \n",
    "    for painel in paineis:\n",
    "        \n",
    "        dados = {\n",
    "            'autor' : autor(painel),\n",
    "            'link_proposta' : link_proposta(painel),\n",
    "            'data_submissao' : data_proposta(painel),\n",
    "            'qtd_apoios' : qt_apoios(painel),\n",
    "            'temas' : temas(painel),\n",
    "            'conteudo' : texto_proposta(painel)\n",
    "        }\n",
    "        \n",
    "        todos_dados.append(dados)"
   ]
  },
  {
   "cell_type": "code",
   "execution_count": 7,
   "id": "tribal-programming",
   "metadata": {},
   "outputs": [],
   "source": [
    "df = pd.DataFrame(todos_dados)"
   ]
  },
  {
   "cell_type": "code",
   "execution_count": 8,
   "id": "hazardous-classic",
   "metadata": {},
   "outputs": [],
   "source": [
    "path_dados = '../Dados_site/'"
   ]
  },
  {
   "cell_type": "code",
   "execution_count": 9,
   "id": "typical-flood",
   "metadata": {},
   "outputs": [],
   "source": [
    "hoje = datetime.datetime.today()\n",
    "nom_arquivo = f'propostas_pdm_{hoje.day}_{hoje.month}.xlsx'"
   ]
  },
  {
   "cell_type": "code",
   "execution_count": 10,
   "id": "loved-martin",
   "metadata": {},
   "outputs": [
    {
     "data": {
      "text/plain": [
       "'propostas_pdm_14_5.xlsx'"
      ]
     },
     "execution_count": 10,
     "metadata": {},
     "output_type": "execute_result"
    }
   ],
   "source": [
    "nom_arquivo"
   ]
  },
  {
   "cell_type": "code",
   "execution_count": 11,
   "id": "liked-estimate",
   "metadata": {},
   "outputs": [],
   "source": [
    "df.to_excel(path_dados+nom_arquivo)"
   ]
  },
  {
   "cell_type": "code",
   "execution_count": 12,
   "id": "alleged-spotlight",
   "metadata": {},
   "outputs": [
    {
     "data": {
      "text/plain": [
       "864"
      ]
     },
     "execution_count": 12,
     "metadata": {},
     "output_type": "execute_result"
    }
   ],
   "source": [
    "len(df)"
   ]
  },
  {
   "cell_type": "code",
   "execution_count": null,
   "id": "undefined-tribe",
   "metadata": {},
   "outputs": [],
   "source": []
  }
 ],
 "metadata": {
  "kernelspec": {
   "display_name": "Python 3",
   "language": "python",
   "name": "python3"
  },
  "language_info": {
   "codemirror_mode": {
    "name": "ipython",
    "version": 3
   },
   "file_extension": ".py",
   "mimetype": "text/x-python",
   "name": "python",
   "nbconvert_exporter": "python",
   "pygments_lexer": "ipython3",
   "version": "3.7.4"
  }
 },
 "nbformat": 4,
 "nbformat_minor": 5
}
