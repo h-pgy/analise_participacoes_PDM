{
 "cells": [
  {
   "cell_type": "code",
   "execution_count": 1,
   "id": "generous-gnome",
   "metadata": {},
   "outputs": [],
   "source": [
    "import pandas as pd\n",
    "import numpy as np\n",
    "import seaborn as sns\n",
    "import datetime\n",
    "import os"
   ]
  },
  {
   "cell_type": "code",
   "execution_count": 2,
   "id": "individual-least",
   "metadata": {},
   "outputs": [],
   "source": [
    "sns.set()\n",
    "%matplotlib inline"
   ]
  },
  {
   "cell_type": "code",
   "execution_count": 3,
   "id": "distinct-induction",
   "metadata": {},
   "outputs": [],
   "source": [
    "np.random.seed(42)"
   ]
  },
  {
   "cell_type": "code",
   "execution_count": 4,
   "id": "unlikely-boundary",
   "metadata": {},
   "outputs": [],
   "source": [
    "hoje = datetime.datetime.today()"
   ]
  },
  {
   "cell_type": "code",
   "execution_count": 5,
   "id": "embedded-student",
   "metadata": {},
   "outputs": [],
   "source": [
    "path_dados = '..Dados_originais/Dados_site/'"
   ]
  },
  {
   "cell_type": "code",
   "execution_count": 6,
   "id": "numeric-graham",
   "metadata": {},
   "outputs": [],
   "source": [
    "file_propostas = os.path.join(path_dados, 'propostas_pdm_29_4.xlsx')\n",
    "file_revisoes = os.path.join(path_dados, 'revisoes_pdm_29_4.xlsx')"
   ]
  },
  {
   "cell_type": "code",
   "execution_count": 7,
   "id": "biblical-length",
   "metadata": {},
   "outputs": [],
   "source": [
    "prop = pd.read_excel(file_propostas)\n",
    "revi = pd.read_excel(file_revisoes)"
   ]
  },
  {
   "cell_type": "code",
   "execution_count": 8,
   "id": "hindu-means",
   "metadata": {},
   "outputs": [
    {
     "data": {
      "text/html": [
       "<div>\n",
       "<style scoped>\n",
       "    .dataframe tbody tr th:only-of-type {\n",
       "        vertical-align: middle;\n",
       "    }\n",
       "\n",
       "    .dataframe tbody tr th {\n",
       "        vertical-align: top;\n",
       "    }\n",
       "\n",
       "    .dataframe thead th {\n",
       "        text-align: right;\n",
       "    }\n",
       "</style>\n",
       "<table border=\"1\" class=\"dataframe\">\n",
       "  <thead>\n",
       "    <tr style=\"text-align: right;\">\n",
       "      <th></th>\n",
       "      <th>Unnamed: 0</th>\n",
       "      <th>autor</th>\n",
       "      <th>link_proposta</th>\n",
       "      <th>data_submissao</th>\n",
       "      <th>qtd_apoios</th>\n",
       "      <th>temas</th>\n",
       "      <th>conteudo</th>\n",
       "    </tr>\n",
       "  </thead>\n",
       "  <tbody>\n",
       "    <tr>\n",
       "      <th>0</th>\n",
       "      <td>0</td>\n",
       "      <td>Rede Nossa São Paulo</td>\n",
       "      <td>/legislation/processes/116/proposals/454</td>\n",
       "      <td>29/04/2021</td>\n",
       "      <td>1</td>\n",
       "      <td>Assistência Social; Habitação</td>\n",
       "      <td>Entregar 10.200 vagas em serviços de moradia s...</td>\n",
       "    </tr>\n",
       "    <tr>\n",
       "      <th>1</th>\n",
       "      <td>1</td>\n",
       "      <td>Rede Nossa São Paulo</td>\n",
       "      <td>/legislation/processes/116/proposals/453</td>\n",
       "      <td>29/04/2021</td>\n",
       "      <td>1</td>\n",
       "      <td>Transportes e mobilidade</td>\n",
       "      <td>Garantir que 2% das viagens na cidade sejam re...</td>\n",
       "    </tr>\n",
       "    <tr>\n",
       "      <th>2</th>\n",
       "      <td>2</td>\n",
       "      <td>Rede Nossa São Paulo</td>\n",
       "      <td>/legislation/processes/116/proposals/452</td>\n",
       "      <td>29/04/2021</td>\n",
       "      <td>1</td>\n",
       "      <td>Transportes e mobilidade</td>\n",
       "      <td>Garantir que 6 em cada 10 deslocamentos com ve...</td>\n",
       "    </tr>\n",
       "    <tr>\n",
       "      <th>3</th>\n",
       "      <td>3</td>\n",
       "      <td>Rede Nossa São Paulo</td>\n",
       "      <td>/legislation/processes/116/proposals/451</td>\n",
       "      <td>29/04/2021</td>\n",
       "      <td>1</td>\n",
       "      <td>Transportes e mobilidade</td>\n",
       "      <td>Reduzir o tempo de deslocamento em transportes...</td>\n",
       "    </tr>\n",
       "    <tr>\n",
       "      <th>4</th>\n",
       "      <td>4</td>\n",
       "      <td>Rede Nossa São Paulo</td>\n",
       "      <td>/legislation/processes/116/proposals/450</td>\n",
       "      <td>29/04/2021</td>\n",
       "      <td>1</td>\n",
       "      <td>Transportes e mobilidade</td>\n",
       "      <td>Garantir a acessibilidade universal de 3,5 mil...</td>\n",
       "    </tr>\n",
       "  </tbody>\n",
       "</table>\n",
       "</div>"
      ],
      "text/plain": [
       "   Unnamed: 0                 autor                             link_proposta  \\\n",
       "0           0  Rede Nossa São Paulo  /legislation/processes/116/proposals/454   \n",
       "1           1  Rede Nossa São Paulo  /legislation/processes/116/proposals/453   \n",
       "2           2  Rede Nossa São Paulo  /legislation/processes/116/proposals/452   \n",
       "3           3  Rede Nossa São Paulo  /legislation/processes/116/proposals/451   \n",
       "4           4  Rede Nossa São Paulo  /legislation/processes/116/proposals/450   \n",
       "\n",
       "  data_submissao  qtd_apoios                          temas  \\\n",
       "0     29/04/2021           1  Assistência Social; Habitação   \n",
       "1     29/04/2021           1       Transportes e mobilidade   \n",
       "2     29/04/2021           1       Transportes e mobilidade   \n",
       "3     29/04/2021           1       Transportes e mobilidade   \n",
       "4     29/04/2021           1       Transportes e mobilidade   \n",
       "\n",
       "                                            conteudo  \n",
       "0  Entregar 10.200 vagas em serviços de moradia s...  \n",
       "1  Garantir que 2% das viagens na cidade sejam re...  \n",
       "2  Garantir que 6 em cada 10 deslocamentos com ve...  \n",
       "3  Reduzir o tempo de deslocamento em transportes...  \n",
       "4  Garantir a acessibilidade universal de 3,5 mil...  "
      ]
     },
     "execution_count": 8,
     "metadata": {},
     "output_type": "execute_result"
    }
   ],
   "source": [
    "prop.head()"
   ]
  },
  {
   "cell_type": "code",
   "execution_count": 9,
   "id": "japanese-communist",
   "metadata": {},
   "outputs": [
    {
     "data": {
      "text/html": [
       "<div>\n",
       "<style scoped>\n",
       "    .dataframe tbody tr th:only-of-type {\n",
       "        vertical-align: middle;\n",
       "    }\n",
       "\n",
       "    .dataframe tbody tr th {\n",
       "        vertical-align: top;\n",
       "    }\n",
       "\n",
       "    .dataframe thead th {\n",
       "        text-align: right;\n",
       "    }\n",
       "</style>\n",
       "<table border=\"1\" class=\"dataframe\">\n",
       "  <thead>\n",
       "    <tr style=\"text-align: right;\">\n",
       "      <th></th>\n",
       "      <th>Unnamed: 0</th>\n",
       "      <th>meta_iniciativa</th>\n",
       "      <th>descricao</th>\n",
       "      <th>indicador</th>\n",
       "      <th>categoria</th>\n",
       "      <th>nome_usuario</th>\n",
       "      <th>url_usuario</th>\n",
       "      <th>texto_sugestao</th>\n",
       "    </tr>\n",
       "  </thead>\n",
       "  <tbody>\n",
       "    <tr>\n",
       "      <th>0</th>\n",
       "      <td>0</td>\n",
       "      <td>1.1.1. Meta 1</td>\n",
       "      <td>Meta 1: Atender 1.500.000 pessoas em programas...</td>\n",
       "      <td>Indicador:Número de pessoas atendidas em progr...</td>\n",
       "      <td>Revisar</td>\n",
       "      <td>claudia lucena paschotto</td>\n",
       "      <td>/users/21405</td>\n",
       "      <td>Implantação de programa de alimentação e apoio...</td>\n",
       "    </tr>\n",
       "    <tr>\n",
       "      <th>1</th>\n",
       "      <td>1</td>\n",
       "      <td>1.1.1. Meta 1</td>\n",
       "      <td>Meta 1: Atender 1.500.000 pessoas em programas...</td>\n",
       "      <td>Indicador:Número de pessoas atendidas em progr...</td>\n",
       "      <td>Revisar</td>\n",
       "      <td>IvoFOliveira</td>\n",
       "      <td>/users/20353</td>\n",
       "      <td>Alteração no texto. Meta 1: Atender 1.500.000 ...</td>\n",
       "    </tr>\n",
       "    <tr>\n",
       "      <th>2</th>\n",
       "      <td>2</td>\n",
       "      <td>1.1.1. Meta 1</td>\n",
       "      <td>Meta 1: Atender 1.500.000 pessoas em programas...</td>\n",
       "      <td>Indicador:Número de pessoas atendidas em progr...</td>\n",
       "      <td>Manter</td>\n",
       "      <td>Fernanda Imperio Lima</td>\n",
       "      <td>/users/19369</td>\n",
       "      <td>Proposta apoiada pela Deliberação Cidadã de S....</td>\n",
       "    </tr>\n",
       "    <tr>\n",
       "      <th>3</th>\n",
       "      <td>3</td>\n",
       "      <td>1.1.1. Meta 1</td>\n",
       "      <td>Meta 1: Atender 1.500.000 pessoas em programas...</td>\n",
       "      <td>Indicador:Número de pessoas atendidas em progr...</td>\n",
       "      <td>Revisar</td>\n",
       "      <td>sophia lima rocha</td>\n",
       "      <td>/users/21177</td>\n",
       "      <td>A meta de atendimento de pessoas já esta abaix...</td>\n",
       "    </tr>\n",
       "    <tr>\n",
       "      <th>4</th>\n",
       "      <td>4</td>\n",
       "      <td>1.1.1. Meta 1</td>\n",
       "      <td>Meta 1: Atender 1.500.000 pessoas em programas...</td>\n",
       "      <td>Indicador:Número de pessoas atendidas em progr...</td>\n",
       "      <td>Revisar</td>\n",
       "      <td>Vita Aguiar de Oliveira</td>\n",
       "      <td>/users/10239</td>\n",
       "      <td>completar o apoio nutricional engloba nutrição...</td>\n",
       "    </tr>\n",
       "  </tbody>\n",
       "</table>\n",
       "</div>"
      ],
      "text/plain": [
       "   Unnamed: 0 meta_iniciativa  \\\n",
       "0           0   1.1.1. Meta 1   \n",
       "1           1   1.1.1. Meta 1   \n",
       "2           2   1.1.1. Meta 1   \n",
       "3           3   1.1.1. Meta 1   \n",
       "4           4   1.1.1. Meta 1   \n",
       "\n",
       "                                           descricao  \\\n",
       "0  Meta 1: Atender 1.500.000 pessoas em programas...   \n",
       "1  Meta 1: Atender 1.500.000 pessoas em programas...   \n",
       "2  Meta 1: Atender 1.500.000 pessoas em programas...   \n",
       "3  Meta 1: Atender 1.500.000 pessoas em programas...   \n",
       "4  Meta 1: Atender 1.500.000 pessoas em programas...   \n",
       "\n",
       "                                           indicador categoria  \\\n",
       "0  Indicador:Número de pessoas atendidas em progr...   Revisar   \n",
       "1  Indicador:Número de pessoas atendidas em progr...   Revisar   \n",
       "2  Indicador:Número de pessoas atendidas em progr...    Manter   \n",
       "3  Indicador:Número de pessoas atendidas em progr...   Revisar   \n",
       "4  Indicador:Número de pessoas atendidas em progr...   Revisar   \n",
       "\n",
       "               nome_usuario   url_usuario  \\\n",
       "0  claudia lucena paschotto  /users/21405   \n",
       "1              IvoFOliveira  /users/20353   \n",
       "2     Fernanda Imperio Lima  /users/19369   \n",
       "3         sophia lima rocha  /users/21177   \n",
       "4   Vita Aguiar de Oliveira  /users/10239   \n",
       "\n",
       "                                      texto_sugestao  \n",
       "0  Implantação de programa de alimentação e apoio...  \n",
       "1  Alteração no texto. Meta 1: Atender 1.500.000 ...  \n",
       "2  Proposta apoiada pela Deliberação Cidadã de S....  \n",
       "3  A meta de atendimento de pessoas já esta abaix...  \n",
       "4  completar o apoio nutricional engloba nutrição...  "
      ]
     },
     "execution_count": 9,
     "metadata": {},
     "output_type": "execute_result"
    }
   ],
   "source": [
    "revi.head()"
   ]
  },
  {
   "cell_type": "code",
   "execution_count": 10,
   "id": "integral-daily",
   "metadata": {},
   "outputs": [
    {
     "name": "stdout",
     "output_type": "stream",
     "text": [
      "O total de propostas é de 432 e de revisões é de 338\n"
     ]
    }
   ],
   "source": [
    "print(f'O total de propostas é de {len(prop)} e de revisões é de {len(revi)}')"
   ]
  },
  {
   "cell_type": "code",
   "execution_count": 11,
   "id": "exclusive-ultimate",
   "metadata": {},
   "outputs": [
    {
     "data": {
      "text/plain": [
       "Unnamed: 0         int64\n",
       "autor             object\n",
       "link_proposta     object\n",
       "data_submissao    object\n",
       "qtd_apoios         int64\n",
       "temas             object\n",
       "conteudo          object\n",
       "dtype: object"
      ]
     },
     "execution_count": 11,
     "metadata": {},
     "output_type": "execute_result"
    }
   ],
   "source": [
    "prop.dtypes"
   ]
  },
  {
   "cell_type": "code",
   "execution_count": 12,
   "id": "acoustic-daily",
   "metadata": {},
   "outputs": [],
   "source": [
    "prop['count'] = 1"
   ]
  },
  {
   "cell_type": "code",
   "execution_count": 13,
   "id": "metallic-volume",
   "metadata": {},
   "outputs": [],
   "source": [
    "prop['data_submissao'] = pd.to_datetime(prop['data_submissao'], format = '%d/%m/%Y')"
   ]
  },
  {
   "cell_type": "code",
   "execution_count": 14,
   "id": "suffering-instruction",
   "metadata": {},
   "outputs": [],
   "source": [
    "props_por_data = prop.sort_values(by='data_submissao').groupby('data_submissao').count()[['count']].copy()"
   ]
  },
  {
   "cell_type": "code",
   "execution_count": 15,
   "id": "ahead-strain",
   "metadata": {},
   "outputs": [
    {
     "data": {
      "text/plain": [
       "Text(0, 0.5, 'Qtd propostas')"
      ]
     },
     "execution_count": 15,
     "metadata": {},
     "output_type": "execute_result"
    },
    {
     "data": {
      "image/png": "[encoded data removed]",
      "text/plain": [
       "<Figure size 432x288 with 1 Axes>"
      ]
     },
     "metadata": {
      "needs_background": "light"
     },
     "output_type": "display_data"
    }
   ],
   "source": [
    "ax = props_por_data.plot(title  = 'Propostas por dia - Participe+')\n",
    "ax.set_xlabel(\"Data de envio\")\n",
    "ax.set_ylabel(\"Qtd propostas\")"
   ]
  },
  {
   "cell_type": "code",
   "execution_count": 16,
   "id": "heated-sheet",
   "metadata": {},
   "outputs": [],
   "source": [
    "fig = ax.get_figure()\n",
    "fig.savefig('grafico_propostas.jpg')"
   ]
  },
  {
   "cell_type": "code",
   "execution_count": 17,
   "id": "promotional-nation",
   "metadata": {},
   "outputs": [],
   "source": [
    "media_prop_dia = round(props_por_data['count'].mean(), 2)"
   ]
  },
  {
   "cell_type": "code",
   "execution_count": 18,
   "id": "blond-album",
   "metadata": {},
   "outputs": [
    {
     "name": "stdout",
     "output_type": "stream",
     "text": [
      "A media de propostas por dia é de 19.64\n"
     ]
    }
   ],
   "source": [
    "print(f'A media de propostas por dia é de {media_prop_dia}')"
   ]
  },
  {
   "cell_type": "code",
   "execution_count": 19,
   "id": "peaceful-abraham",
   "metadata": {},
   "outputs": [
    {
     "data": {
      "text/plain": [
       "<AxesSubplot:title={'center':'Histograma - Propostas por dia'}, ylabel='Frequency'>"
      ]
     },
     "execution_count": 19,
     "metadata": {},
     "output_type": "execute_result"
    },
    {
     "data": {
      "image/png": "[encoded data removed]",
      "text/plain": [
       "<Figure size 432x288 with 1 Axes>"
      ]
     },
     "metadata": {
      "needs_background": "light"
     },
     "output_type": "display_data"
    }
   ],
   "source": [
    "props_por_data['count'].plot.hist(bins = 10, title = 'Histograma - Propostas por dia')"
   ]
  },
  {
   "cell_type": "code",
   "execution_count": 20,
   "id": "growing-telescope",
   "metadata": {},
   "outputs": [
    {
     "data": {
      "text/html": [
       "<div>\n",
       "<style scoped>\n",
       "    .dataframe tbody tr th:only-of-type {\n",
       "        vertical-align: middle;\n",
       "    }\n",
       "\n",
       "    .dataframe tbody tr th {\n",
       "        vertical-align: top;\n",
       "    }\n",
       "\n",
       "    .dataframe thead th {\n",
       "        text-align: right;\n",
       "    }\n",
       "</style>\n",
       "<table border=\"1\" class=\"dataframe\">\n",
       "  <thead>\n",
       "    <tr style=\"text-align: right;\">\n",
       "      <th></th>\n",
       "      <th>count</th>\n",
       "    </tr>\n",
       "  </thead>\n",
       "  <tbody>\n",
       "    <tr>\n",
       "      <th>0</th>\n",
       "      <td>4</td>\n",
       "    </tr>\n",
       "    <tr>\n",
       "      <th>1</th>\n",
       "      <td>5</td>\n",
       "    </tr>\n",
       "    <tr>\n",
       "      <th>2</th>\n",
       "      <td>8</td>\n",
       "    </tr>\n",
       "  </tbody>\n",
       "</table>\n",
       "</div>"
      ],
      "text/plain": [
       "   count\n",
       "0      4\n",
       "1      5\n",
       "2      8"
      ]
     },
     "execution_count": 20,
     "metadata": {},
     "output_type": "execute_result"
    }
   ],
   "source": [
    "props_por_data.mode()"
   ]
  },
  {
   "cell_type": "code",
   "execution_count": 21,
   "id": "overall-diesel",
   "metadata": {},
   "outputs": [],
   "source": [
    "props_por_data['cumulativo'] = props_por_data['count'].cumsum()"
   ]
  },
  {
   "cell_type": "code",
   "execution_count": 22,
   "id": "polish-ozone",
   "metadata": {},
   "outputs": [
    {
     "data": {
      "text/plain": [
       "Text(0, 0.5, 'Qtd propostas acumuladas')"
      ]
     },
     "execution_count": 22,
     "metadata": {},
     "output_type": "execute_result"
    },
    {
     "data": {
      "image/png": "[encoded data removed]",
      "text/plain": [
       "<Figure size 432x288 with 1 Axes>"
      ]
     },
     "metadata": {
      "needs_background": "light"
     },
     "output_type": "display_data"
    }
   ],
   "source": [
    "ax = props_por_data[['cumulativo']].plot(title  = 'Propostas acmuladas por dia - Participe+')\n",
    "ax.set_xlabel(\"Data de envio\")\n",
    "ax.set_ylabel(\"Qtd propostas acumuladas\")"
   ]
  },
  {
   "cell_type": "code",
   "execution_count": 23,
   "id": "charming-ceremony",
   "metadata": {},
   "outputs": [],
   "source": [
    "fig = ax.get_figure()\n",
    "fig.savefig('grafico_propostas_cumulativo.jpg')"
   ]
  },
  {
   "cell_type": "code",
   "execution_count": 24,
   "id": "conventional-effectiveness",
   "metadata": {},
   "outputs": [],
   "source": [
    "props_por_data['qtd_dias'] = [i for i in range(len(props_por_data))]"
   ]
  },
  {
   "cell_type": "code",
   "execution_count": 25,
   "id": "handmade-soldier",
   "metadata": {},
   "outputs": [
    {
     "data": {
      "text/plain": [
       "<seaborn.axisgrid.FacetGrid at 0x20c27f44488>"
      ]
     },
     "execution_count": 25,
     "metadata": {},
     "output_type": "execute_result"
    },
    {
     "data": {
      "image/png": "[encoded data removed]",
      "text/plain": [
       "<Figure size 360x360 with 1 Axes>"
      ]
     },
     "metadata": {
      "needs_background": "light"
     },
     "output_type": "display_data"
    }
   ],
   "source": [
    "ax = sns.lmplot(x = 'qtd_dias', y = 'cumulativo', data = props_por_data, order = 2)\n",
    "ax.set(title = 'Regressão Polinomial - 2ª Ordem')"
   ]
  },
  {
   "cell_type": "code",
   "execution_count": 26,
   "id": "geographic-possession",
   "metadata": {},
   "outputs": [],
   "source": [
    "ax.savefig('regrassao_polinomial.png')"
   ]
  },
  {
   "cell_type": "code",
   "execution_count": 27,
   "id": "dimensional-drunk",
   "metadata": {},
   "outputs": [],
   "source": [
    "from sklearn.preprocessing import PolynomialFeatures\n",
    "from sklearn.pipeline import make_pipeline\n",
    "from sklearn.linear_model import LinearRegression\n",
    "from sklearn.model_selection  import cross_val_score\n",
    "from sklearn.metrics import mean_squared_error, mean_absolute_error"
   ]
  },
  {
   "cell_type": "code",
   "execution_count": 28,
   "id": "casual-compound",
   "metadata": {},
   "outputs": [],
   "source": [
    "df = props_por_data.reset_index().copy()"
   ]
  },
  {
   "cell_type": "code",
   "execution_count": 29,
   "id": "innovative-relay",
   "metadata": {},
   "outputs": [],
   "source": [
    "X = props_por_data['qtd_dias'].values.reshape(-1, 1)\n",
    "y = props_por_data['cumulativo'].values.reshape(-1, 1)\n"
   ]
  },
  {
   "cell_type": "code",
   "execution_count": 30,
   "id": "bacterial-congress",
   "metadata": {},
   "outputs": [],
   "source": [
    "degree=2"
   ]
  },
  {
   "cell_type": "code",
   "execution_count": 31,
   "id": "specific-membrane",
   "metadata": {},
   "outputs": [],
   "source": [
    "polyreg=make_pipeline(PolynomialFeatures(degree),LinearRegression())"
   ]
  },
  {
   "cell_type": "code",
   "execution_count": 32,
   "id": "tribal-despite",
   "metadata": {},
   "outputs": [
    {
     "data": {
      "text/plain": [
       "Pipeline(steps=[('polynomialfeatures', PolynomialFeatures()),\n",
       "                ('linearregression', LinearRegression())])"
      ]
     },
     "execution_count": 32,
     "metadata": {},
     "output_type": "execute_result"
    }
   ],
   "source": [
    "polyreg.fit(X,y)"
   ]
  },
  {
   "cell_type": "code",
   "execution_count": 33,
   "id": "creative-dutch",
   "metadata": {},
   "outputs": [],
   "source": [
    "y_pred = polyreg.predict(X)"
   ]
  },
  {
   "cell_type": "code",
   "execution_count": 34,
   "id": "apparent-denmark",
   "metadata": {},
   "outputs": [
    {
     "data": {
      "text/plain": [
       "116.56647502694928"
      ]
     },
     "execution_count": 34,
     "metadata": {},
     "output_type": "execute_result"
    }
   ],
   "source": [
    "mean_squared_error(y_pred, y)"
   ]
  },
  {
   "cell_type": "code",
   "execution_count": 35,
   "id": "blond-consultancy",
   "metadata": {},
   "outputs": [
    {
     "data": {
      "text/plain": [
       "9.207509881422933"
      ]
     },
     "execution_count": 35,
     "metadata": {},
     "output_type": "execute_result"
    }
   ],
   "source": [
    "mean_absolute_error(y_pred, y)"
   ]
  },
  {
   "cell_type": "code",
   "execution_count": 36,
   "id": "explicit-phone",
   "metadata": {},
   "outputs": [],
   "source": [
    "scores = cross_val_score(polyreg, X, y, cv=5, scoring = 'neg_mean_absolute_error')"
   ]
  },
  {
   "cell_type": "code",
   "execution_count": 37,
   "id": "alive-piece",
   "metadata": {},
   "outputs": [
    {
     "data": {
      "text/plain": [
       "20.746858538310953"
      ]
     },
     "execution_count": 37,
     "metadata": {},
     "output_type": "execute_result"
    }
   ],
   "source": [
    "-scores.mean()"
   ]
  },
  {
   "cell_type": "code",
   "execution_count": 38,
   "id": "spare-borough",
   "metadata": {},
   "outputs": [],
   "source": [
    "prox_dez_dias = np.linspace(20, 32)\n",
    "prev_prox_dez_dias  = polyreg.predict(np.linspace(20, 30).reshape(-1, 1))"
   ]
  },
  {
   "cell_type": "code",
   "execution_count": 39,
   "id": "lasting-frequency",
   "metadata": {},
   "outputs": [
    {
     "data": {
      "image/png": "[encoded data removed]",
      "text/plain": [
       "<Figure size 432x288 with 1 Axes>"
      ]
     },
     "metadata": {
      "needs_background": "light"
     },
     "output_type": "display_data"
    }
   ],
   "source": [
    "import matplotlib.pyplot as plt\n",
    "import numpy as np\n",
    "fig = plt.figure()\n",
    "plt.scatter(props_por_data['qtd_dias'].values,props_por_data['cumulativo'].values)\n",
    "plt.plot(X,polyreg.predict(X),color=\"black\")\n",
    "ax = plt.plot(prox_dez_dias,prev_prox_dez_dias,color=\"green\")\n",
    "plt.title(f\"Regressao Poli. {degree}º - Previsao Contribuições \")\n",
    "plt.ylabel('Qtd. Acumulada Contribuições')\n",
    "plt.xlabel('Dias passados')\n",
    "plt.legend(['Prev. modelo', 'Prev. prox. 10 dias'])\n",
    "plt.show()"
   ]
  },
  {
   "cell_type": "code",
   "execution_count": 40,
   "id": "measured-hostel",
   "metadata": {},
   "outputs": [],
   "source": [
    "fig.savefig('previsao_contribuicoes_participe+.png', facecolor = 'w')"
   ]
  },
  {
   "cell_type": "code",
   "execution_count": 41,
   "id": "independent-trader",
   "metadata": {},
   "outputs": [
    {
     "data": {
      "text/html": [
       "<div>\n",
       "<style scoped>\n",
       "    .dataframe tbody tr th:only-of-type {\n",
       "        vertical-align: middle;\n",
       "    }\n",
       "\n",
       "    .dataframe tbody tr th {\n",
       "        vertical-align: top;\n",
       "    }\n",
       "\n",
       "    .dataframe thead th {\n",
       "        text-align: right;\n",
       "    }\n",
       "</style>\n",
       "<table border=\"1\" class=\"dataframe\">\n",
       "  <thead>\n",
       "    <tr style=\"text-align: right;\">\n",
       "      <th></th>\n",
       "      <th>data_submissao</th>\n",
       "      <th>count</th>\n",
       "      <th>cumulativo</th>\n",
       "      <th>qtd_dias</th>\n",
       "    </tr>\n",
       "  </thead>\n",
       "  <tbody>\n",
       "    <tr>\n",
       "      <th>0</th>\n",
       "      <td>2021-04-08</td>\n",
       "      <td>3</td>\n",
       "      <td>3</td>\n",
       "      <td>0</td>\n",
       "    </tr>\n",
       "    <tr>\n",
       "      <th>1</th>\n",
       "      <td>2021-04-09</td>\n",
       "      <td>9</td>\n",
       "      <td>12</td>\n",
       "      <td>1</td>\n",
       "    </tr>\n",
       "    <tr>\n",
       "      <th>2</th>\n",
       "      <td>2021-04-10</td>\n",
       "      <td>5</td>\n",
       "      <td>17</td>\n",
       "      <td>2</td>\n",
       "    </tr>\n",
       "    <tr>\n",
       "      <th>3</th>\n",
       "      <td>2021-04-11</td>\n",
       "      <td>4</td>\n",
       "      <td>21</td>\n",
       "      <td>3</td>\n",
       "    </tr>\n",
       "    <tr>\n",
       "      <th>4</th>\n",
       "      <td>2021-04-12</td>\n",
       "      <td>2</td>\n",
       "      <td>23</td>\n",
       "      <td>4</td>\n",
       "    </tr>\n",
       "    <tr>\n",
       "      <th>5</th>\n",
       "      <td>2021-04-13</td>\n",
       "      <td>4</td>\n",
       "      <td>27</td>\n",
       "      <td>5</td>\n",
       "    </tr>\n",
       "    <tr>\n",
       "      <th>6</th>\n",
       "      <td>2021-04-14</td>\n",
       "      <td>8</td>\n",
       "      <td>35</td>\n",
       "      <td>6</td>\n",
       "    </tr>\n",
       "    <tr>\n",
       "      <th>7</th>\n",
       "      <td>2021-04-15</td>\n",
       "      <td>8</td>\n",
       "      <td>43</td>\n",
       "      <td>7</td>\n",
       "    </tr>\n",
       "    <tr>\n",
       "      <th>8</th>\n",
       "      <td>2021-04-16</td>\n",
       "      <td>7</td>\n",
       "      <td>50</td>\n",
       "      <td>8</td>\n",
       "    </tr>\n",
       "    <tr>\n",
       "      <th>9</th>\n",
       "      <td>2021-04-17</td>\n",
       "      <td>11</td>\n",
       "      <td>61</td>\n",
       "      <td>9</td>\n",
       "    </tr>\n",
       "    <tr>\n",
       "      <th>10</th>\n",
       "      <td>2021-04-18</td>\n",
       "      <td>5</td>\n",
       "      <td>66</td>\n",
       "      <td>10</td>\n",
       "    </tr>\n",
       "    <tr>\n",
       "      <th>11</th>\n",
       "      <td>2021-04-19</td>\n",
       "      <td>12</td>\n",
       "      <td>78</td>\n",
       "      <td>11</td>\n",
       "    </tr>\n",
       "    <tr>\n",
       "      <th>12</th>\n",
       "      <td>2021-04-20</td>\n",
       "      <td>51</td>\n",
       "      <td>129</td>\n",
       "      <td>12</td>\n",
       "    </tr>\n",
       "    <tr>\n",
       "      <th>13</th>\n",
       "      <td>2021-04-21</td>\n",
       "      <td>6</td>\n",
       "      <td>135</td>\n",
       "      <td>13</td>\n",
       "    </tr>\n",
       "    <tr>\n",
       "      <th>14</th>\n",
       "      <td>2021-04-22</td>\n",
       "      <td>34</td>\n",
       "      <td>169</td>\n",
       "      <td>14</td>\n",
       "    </tr>\n",
       "    <tr>\n",
       "      <th>15</th>\n",
       "      <td>2021-04-23</td>\n",
       "      <td>25</td>\n",
       "      <td>194</td>\n",
       "      <td>15</td>\n",
       "    </tr>\n",
       "    <tr>\n",
       "      <th>16</th>\n",
       "      <td>2021-04-24</td>\n",
       "      <td>19</td>\n",
       "      <td>213</td>\n",
       "      <td>16</td>\n",
       "    </tr>\n",
       "    <tr>\n",
       "      <th>17</th>\n",
       "      <td>2021-04-25</td>\n",
       "      <td>30</td>\n",
       "      <td>243</td>\n",
       "      <td>17</td>\n",
       "    </tr>\n",
       "    <tr>\n",
       "      <th>18</th>\n",
       "      <td>2021-04-26</td>\n",
       "      <td>42</td>\n",
       "      <td>285</td>\n",
       "      <td>18</td>\n",
       "    </tr>\n",
       "    <tr>\n",
       "      <th>19</th>\n",
       "      <td>2021-04-27</td>\n",
       "      <td>52</td>\n",
       "      <td>337</td>\n",
       "      <td>19</td>\n",
       "    </tr>\n",
       "    <tr>\n",
       "      <th>20</th>\n",
       "      <td>2021-04-28</td>\n",
       "      <td>59</td>\n",
       "      <td>396</td>\n",
       "      <td>20</td>\n",
       "    </tr>\n",
       "    <tr>\n",
       "      <th>21</th>\n",
       "      <td>2021-04-29</td>\n",
       "      <td>36</td>\n",
       "      <td>432</td>\n",
       "      <td>21</td>\n",
       "    </tr>\n",
       "  </tbody>\n",
       "</table>\n",
       "</div>"
      ],
      "text/plain": [
       "   data_submissao  count  cumulativo  qtd_dias\n",
       "0      2021-04-08      3           3         0\n",
       "1      2021-04-09      9          12         1\n",
       "2      2021-04-10      5          17         2\n",
       "3      2021-04-11      4          21         3\n",
       "4      2021-04-12      2          23         4\n",
       "5      2021-04-13      4          27         5\n",
       "6      2021-04-14      8          35         6\n",
       "7      2021-04-15      8          43         7\n",
       "8      2021-04-16      7          50         8\n",
       "9      2021-04-17     11          61         9\n",
       "10     2021-04-18      5          66        10\n",
       "11     2021-04-19     12          78        11\n",
       "12     2021-04-20     51         129        12\n",
       "13     2021-04-21      6         135        13\n",
       "14     2021-04-22     34         169        14\n",
       "15     2021-04-23     25         194        15\n",
       "16     2021-04-24     19         213        16\n",
       "17     2021-04-25     30         243        17\n",
       "18     2021-04-26     42         285        18\n",
       "19     2021-04-27     52         337        19\n",
       "20     2021-04-28     59         396        20\n",
       "21     2021-04-29     36         432        21"
      ]
     },
     "execution_count": 41,
     "metadata": {},
     "output_type": "execute_result"
    }
   ],
   "source": [
    "df"
   ]
  },
  {
   "cell_type": "code",
   "execution_count": 42,
   "id": "alpha-parallel",
   "metadata": {},
   "outputs": [
    {
     "data": {
      "text/plain": [
       "array([[1069.93478261]])"
      ]
     },
     "execution_count": 42,
     "metadata": {},
     "output_type": "execute_result"
    }
   ],
   "source": [
    "polyreg.predict([[32]])"
   ]
  }
 ],
 "metadata": {
  "kernelspec": {
   "display_name": "Python 3",
   "language": "python",
   "name": "python3"
  },
  "language_info": {
   "codemirror_mode": {
    "name": "ipython",
    "version": 3
   },
   "file_extension": ".py",
   "mimetype": "text/x-python",
   "name": "python",
   "nbconvert_exporter": "python",
   "pygments_lexer": "ipython3",
   "version": "3.7.4"
  }
 },
 "nbformat": 4,
 "nbformat_minor": 5
}
