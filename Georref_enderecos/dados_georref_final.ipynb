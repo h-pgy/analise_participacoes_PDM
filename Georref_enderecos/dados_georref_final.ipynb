{
 "cells": [
  {
   "cell_type": "code",
   "execution_count": 1,
   "id": "nominated-tattoo",
   "metadata": {},
   "outputs": [],
   "source": [
    "import geopandas\n",
    "import pandas as pd"
   ]
  },
  {
   "cell_type": "code",
   "execution_count": 2,
   "id": "moderate-arlington",
   "metadata": {},
   "outputs": [],
   "source": [
    "def from_df_to_geodf(df, long_col, lat_col):\n",
    "    \n",
    "    gdf = geopandas.GeoDataFrame(\n",
    "        df, geometry=geopandas.points_from_xy(df[lat_col], \n",
    "                                              df[long_col]))\n",
    "    \n",
    "    return gdf\n",
    "\n",
    "def mapas_geosampa(path):\n",
    "    \n",
    "    map_geodf = geopandas.read_file(path)\n",
    "    map_geodf.crs = {'init' :'epsg:31983'}\n",
    "    map_geodf = map_geodf.to_crs(epsg = 4326)\n",
    "    \n",
    "    return map_geodf\n",
    "\n",
    "def geodf_dados_participe(path_file):\n",
    "    \n",
    "    df = pd.read_excel(path_file)\n",
    "    df = from_df_to_geodf(df, 'latitude', 'longitude')\n",
    "    df.crs = {'init' :'epsg:4326'}\n",
    "    df = df.to_crs(epsg = 4326)\n",
    "    \n",
    "    return df\n",
    "\n",
    "def join_contains(mapa_geosampa, df_participe):\n",
    "    \n",
    "    #faz um \"contém\" - serve para relaçao poligono -> ponto\n",
    "    s_join = geopandas.sjoin(mapa_geosampa, \n",
    "                             df_participe, \n",
    "                             how=\"right\", op='contains')\n",
    "    \n",
    "    return s_join\n",
    "\n",
    "def pegar_municipio(df_participe):\n",
    "    \n",
    "    #vai carregar toda vez mas é rapidinho e assim encapsula\n",
    "    #nao vou precisar desse geodf depois\n",
    "    municipios = mapas_geosampa('mapas_geosampa/SIRGAS_SHP_limites_municipais/'\n",
    "                             'SIRGAS_limites_municipais.shp')\n",
    "    join_m = join_contains(municipios, df_participe)\n",
    "    \n",
    "    df_participe['municipio_geosampa'] = join_m['municipio']\n",
    "    \n",
    "def pegar_distrito_e_subs(df_participe, distritos_geosampa):\n",
    "    \n",
    "    df_sampa = df_participe[df_participe['municipio_geosampa']=='SÃO PAULO'].copy()\n",
    "    cols_interesse = {'ds_cd_sub' : 'subprefeitura_codigo',\n",
    "                      'ds_sigla' : 'distrito_sigla', \n",
    "                      'ds_subpref' : 'subprefeitura', \n",
    "                      'ds_nome' : 'distrito_nome', \n",
    "                      'ds_codigo' : 'distrito_codigo'}\n",
    "    \n",
    "    info_distritos = join_contains(distritos_geosampa, df_participe)\n",
    "    info_distritos = info_distritos[cols_interesse.keys()].reset_index()\n",
    "    info_distritos.rename(cols_interesse, axis = 1, inplace = True)\n",
    "    \n",
    "    return pd.merge(df_participe.reset_index(), info_distritos, how = 'left', \n",
    "                    right_on = 'index_right', left_on = 'index')"
   ]
  },
  {
   "cell_type": "code",
   "execution_count": 3,
   "id": "tired-planner",
   "metadata": {},
   "outputs": [],
   "source": [
    "def toilete_dados_final(df, nom_df):\n",
    "    \n",
    "    cols_to_drop = {\n",
    "        'contrib' : [\n",
    "            'index',\n",
    "            'Unnamed: 0',\n",
    "            'Unnamed: 0.1',\t\n",
    "            'Endereço',\n",
    "            'index_right',\n",
    "            'geometry'\n",
    "        ],\n",
    "        'prop' : [\n",
    "            'index',\n",
    "            'Unnamed: 0',\n",
    "            'Unnamed: 0.1',\n",
    "            'Unnamed: 18',\n",
    "            'Unnamed: 19',\n",
    "            'Unnamed: 20',\n",
    "            'Unnamed: 21',\n",
    "            'Unnamed: 22',\n",
    "            'Endereco',\n",
    "            'index_right',\n",
    "            'geometry'\n",
    "        ]\n",
    "    }\n",
    "    \n",
    "    return df.drop(cols_to_drop[nom_df], axis = 1).copy()"
   ]
  },
  {
   "cell_type": "code",
   "execution_count": 4,
   "id": "designed-ministry",
   "metadata": {},
   "outputs": [],
   "source": [
    "distritos = mapas_geosampa('mapas_geosampa/SIRGAS_SHP_distrito/'\n",
    "                           'SIRGAS_SHP_distrito_polygon.shp')\n",
    "\n",
    "contrib_georref = geodf_dados_participe('../Dados_gerados/contrib_georref_final.xlsx')\n",
    "prop_georref = geodf_dados_participe('../Dados_gerados/prop_georref_final.xlsx')"
   ]
  },
  {
   "cell_type": "code",
   "execution_count": 5,
   "id": "adjustable-cutting",
   "metadata": {},
   "outputs": [
    {
     "name": "stderr",
     "output_type": "stream",
     "text": [
      "C:\\Users\\h-pgy\\Anaconda3\\lib\\site-packages\\numpy\\lib\\function_base.py:2192: RuntimeWarning: invalid value encountered in ? (vectorized)\n",
      "  outputs = ufunc(*inputs)\n",
      "C:\\Users\\h-pgy\\Anaconda3\\lib\\site-packages\\numpy\\lib\\function_base.py:2192: RuntimeWarning: invalid value encountered in ? (vectorized)\n",
      "  outputs = ufunc(*inputs)\n"
     ]
    }
   ],
   "source": [
    "pegar_municipio(prop_georref)\n",
    "pegar_municipio(contrib_georref)"
   ]
  },
  {
   "cell_type": "code",
   "execution_count": 6,
   "id": "historic-metropolitan",
   "metadata": {},
   "outputs": [
    {
     "name": "stderr",
     "output_type": "stream",
     "text": [
      "C:\\Users\\h-pgy\\Anaconda3\\lib\\site-packages\\numpy\\lib\\function_base.py:2192: RuntimeWarning: invalid value encountered in ? (vectorized)\n",
      "  outputs = ufunc(*inputs)\n",
      "C:\\Users\\h-pgy\\Anaconda3\\lib\\site-packages\\numpy\\lib\\function_base.py:2192: RuntimeWarning: invalid value encountered in ? (vectorized)\n",
      "  outputs = ufunc(*inputs)\n"
     ]
    }
   ],
   "source": [
    "contrib_georref_geosampa = pegar_distrito_e_subs(contrib_georref, distritos)\n",
    "prop_georref_geosampa = pegar_distrito_e_subs(prop_georref, distritos)\n",
    "\n",
    "#só para certificar que o merge tá ok\n",
    "assert len(contrib_georref_geosampa) == len(contrib_georref)\n",
    "assert len(prop_georref_geosampa) == len(prop_georref)"
   ]
  },
  {
   "cell_type": "code",
   "execution_count": 7,
   "id": "satisfactory-thursday",
   "metadata": {},
   "outputs": [],
   "source": [
    "contrib_georref_final = toilete_dados_final(contrib_georref_geosampa, 'contrib')\n",
    "prop_georref_final = toilete_dados_final(prop_georref_geosampa, 'prop')"
   ]
  },
  {
   "cell_type": "code",
   "execution_count": 8,
   "id": "careful-membership",
   "metadata": {},
   "outputs": [],
   "source": [
    "path_dados = '../Dados_gerados/'\n",
    "prop_georref_final.to_excel(path_dados + 'Propostas_georreferenciadas_final.xlsx')\n",
    "contrib_georref_final.to_excel(path_dados + 'Revisoes_georreferenciadas_final.xlsx')"
   ]
  },
  {
   "cell_type": "code",
   "execution_count": 9,
   "id": "stupid-energy",
   "metadata": {},
   "outputs": [],
   "source": [
    "#salvar em csv também para pessoal analisar no qgis\n",
    "prop_georref_final.to_csv(path_dados  + 'propostas_p+_georreferenciadas.csv', \n",
    "                          sep = ';', encoding = 'utf-8')\n",
    "\n",
    "contrib_georref_final.to_csv(path_dados  + 'revisoes_p+_georreferenciadas.csv', \n",
    "                          sep = ';', encoding = 'utf-8')"
   ]
  },
  {
   "cell_type": "code",
   "execution_count": null,
   "id": "former-superior",
   "metadata": {},
   "outputs": [],
   "source": []
  }
 ],
 "metadata": {
  "kernelspec": {
   "display_name": "Python 3",
   "language": "python",
   "name": "python3"
  },
  "language_info": {
   "codemirror_mode": {
    "name": "ipython",
    "version": 3
   },
   "file_extension": ".py",
   "mimetype": "text/x-python",
   "name": "python",
   "nbconvert_exporter": "python",
   "pygments_lexer": "ipython3",
   "version": "3.7.4"
  }
 },
 "nbformat": 4,
 "nbformat_minor": 5
}
